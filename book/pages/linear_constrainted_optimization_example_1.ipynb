{
 "cells": [
  {
   "cell_type": "markdown",
   "metadata": {},
   "source": [
    "\n",
    "\n",
    "Import libraries"
   ]
  },
  {
   "cell_type": "code",
   "execution_count": null,
   "metadata": {},
   "outputs": [],
   "source": [
    "import scipy as sp\n",
    "import numpy as np"
   ]
  },
  {
   "cell_type": "markdown",
   "metadata": {},
   "source": [
    "Variables"
   ]
  },
  {
   "cell_type": "code",
   "execution_count": null,
   "metadata": {},
   "outputs": [],
   "source": [
    "# x is design variable (12,)\n",
    "\n",
    "bounds = np.array([[0, 250],\n",
    "          [0, 250],\n",
    "          [0, 250],\n",
    "          [0, 250],\n",
    "          [0, 130],\n",
    "          [0, 130],\n",
    "          [0, 130],\n",
    "          [0, 130],\n",
    "          [0, 235],\n",
    "          [0, 235],\n",
    "          [0, 235],\n",
    "          [0, 235]])\n",
    "\n",
    "\n",
    "A_ub = np.array([[1, 1, 1, 1, 0, 0, 0, 0, 0, 0, 0, 0],\n",
    "                [0, 0, 0, 0, 1, 1, 1, 1, 0, 0, 0, 0],\n",
    "                [0, 0, 0, 0, 0, 0, 0, 0, 1, 1, 1, 1]])\n",
    "b_ub = np.array([250, 130, 235])\n",
    "\n",
    "\n",
    "\n",
    "A_eq = np.array([[1, 0, 0, 0, 1, 0, 0, 0, 1, 0, 0, 0],\n",
    "                [0, 1, 0, 0, 0, 1, 0, 0, 0, 1, 0, 0],\n",
    "                [0, 0, 1, 0, 0, 0, 1, 0, 0, 0, 1, 0],\n",
    "                [0, 0, 0, 1, 0, 0, 0, 1, 0, 0, 0, 1]])\n",
    "b_eq = np.array([75, 230, 240, 70])"
   ]
  },
  {
   "cell_type": "markdown",
   "metadata": {},
   "source": [
    "Objective function"
   ]
  },
  {
   "cell_type": "code",
   "execution_count": null,
   "metadata": {},
   "outputs": [],
   "source": [
    "c = np.array([7, 11, 16, 26, 7, 13, 5, 20, 16, 28, 7, 12])\n",
    "# objective function c @ x"
   ]
  },
  {
   "cell_type": "markdown",
   "metadata": {},
   "source": [
    "Solve the problem"
   ]
  },
  {
   "cell_type": "code",
   "execution_count": null,
   "metadata": {},
   "outputs": [
    {
     "name": "stdout",
     "output_type": "stream",
     "text": [
      "        message: Optimization terminated successfully. (HiGHS Status 7: Optimal)\n",
      "        success: True\n",
      "         status: 0\n",
      "            fun: 5425.0\n",
      "              x: [ 2.000e+01  2.300e+02  0.000e+00  0.000e+00  5.500e+01\n",
      "                   0.000e+00  7.500e+01  0.000e+00  0.000e+00  0.000e+00\n",
      "                   1.650e+02  7.000e+01]\n",
      "            nit: 6\n",
      "          lower:  residual: [ 2.000e+01  2.300e+02  0.000e+00  0.000e+00\n",
      "                              5.500e+01  0.000e+00  7.500e+01  0.000e+00\n",
      "                              0.000e+00  0.000e+00  1.650e+02  7.000e+01]\n",
      "                 marginals: [ 0.000e+00  0.000e+00  1.100e+01  1.600e+01\n",
      "                              0.000e+00  2.000e+00  0.000e+00  1.000e+01\n",
      "                              7.000e+00  1.500e+01  0.000e+00  0.000e+00]\n",
      "          upper:  residual: [ 2.300e+02  2.000e+01  2.500e+02  2.500e+02\n",
      "                              7.500e+01  1.300e+02  5.500e+01  1.300e+02\n",
      "                              2.350e+02  2.350e+02  7.000e+01  1.650e+02]\n",
      "                 marginals: [ 0.000e+00  0.000e+00  0.000e+00  0.000e+00\n",
      "                              0.000e+00  0.000e+00  0.000e+00  0.000e+00\n",
      "                              0.000e+00  0.000e+00  0.000e+00  0.000e+00]\n",
      "          eqlin:  residual: [ 0.000e+00  0.000e+00  0.000e+00  0.000e+00]\n",
      "                 marginals: [ 9.000e+00  1.300e+01  7.000e+00  1.200e+01]\n",
      "        ineqlin:  residual: [ 0.000e+00  0.000e+00  0.000e+00]\n",
      "                 marginals: [-2.000e+00 -2.000e+00 -0.000e+00]\n",
      " mip_node_count: 0\n",
      " mip_dual_bound: 0.0\n",
      "        mip_gap: 0.0\n"
     ]
    },
    {
     "data": {
      "text/plain": [
       "array([ 20., 230.,   0.,   0.,  55.,   0.,  75.,   0.,   0.,   0., 165.,\n",
       "        70.])"
      ]
     },
     "metadata": {},
     "output_type": "display_data"
    }
   ],
   "source": [
    "result = sp.optimize.linprog(c, A_ub, b_ub, A_eq, b_eq, bounds)\n",
    "print(result)\n",
    "result.x"
   ]
  },
  {
   "cell_type": "markdown",
   "metadata": {},
   "source": [
    "Variables"
   ]
  },
  {
   "cell_type": "code",
   "execution_count": null,
   "metadata": {},
   "outputs": [],
   "source": [
    "b_ub = np.array([250, 130, 23500])"
   ]
  },
  {
   "cell_type": "markdown",
   "metadata": {},
   "source": [
    "Solve the problem"
   ]
  },
  {
   "cell_type": "code",
   "execution_count": null,
   "metadata": {},
   "outputs": [
    {
     "name": "stdout",
     "output_type": "stream",
     "text": [
      "        message: Optimization terminated successfully. (HiGHS Status 7: Optimal)\n",
      "        success: True\n",
      "         status: 0\n",
      "            fun: 5425.0\n",
      "              x: [ 2.000e+01  2.300e+02  0.000e+00  0.000e+00  5.500e+01\n",
      "                   0.000e+00  7.500e+01  0.000e+00  0.000e+00  0.000e+00\n",
      "                   1.650e+02  7.000e+01]\n",
      "            nit: 5\n",
      "          lower:  residual: [ 2.000e+01  2.300e+02  0.000e+00  0.000e+00\n",
      "                              5.500e+01  0.000e+00  7.500e+01  0.000e+00\n",
      "                              0.000e+00  0.000e+00  1.650e+02  7.000e+01]\n",
      "                 marginals: [ 0.000e+00  0.000e+00  1.100e+01  1.600e+01\n",
      "                              0.000e+00  2.000e+00  0.000e+00  1.000e+01\n",
      "                              7.000e+00  1.500e+01  0.000e+00  0.000e+00]\n",
      "          upper:  residual: [ 2.300e+02  2.000e+01  2.500e+02  2.500e+02\n",
      "                              7.500e+01  1.300e+02  5.500e+01  1.300e+02\n",
      "                              2.350e+02  2.350e+02  7.000e+01  1.650e+02]\n",
      "                 marginals: [ 0.000e+00  0.000e+00  0.000e+00  0.000e+00\n",
      "                              0.000e+00  0.000e+00  0.000e+00  0.000e+00\n",
      "                              0.000e+00  0.000e+00  0.000e+00  0.000e+00]\n",
      "          eqlin:  residual: [ 0.000e+00  0.000e+00  0.000e+00  0.000e+00]\n",
      "                 marginals: [ 9.000e+00  1.300e+01  7.000e+00  1.200e+01]\n",
      "        ineqlin:  residual: [ 0.000e+00  0.000e+00  2.326e+04]\n",
      "                 marginals: [-2.000e+00 -2.000e+00 -0.000e+00]\n",
      " mip_node_count: 0\n",
      " mip_dual_bound: 0.0\n",
      "        mip_gap: 0.0\n"
     ]
    },
    {
     "data": {
      "text/plain": [
       "array([ 20., 230.,   0.,   0.,  55.,   0.,  75.,   0.,   0.,   0., 165.,\n",
       "        70.])"
      ]
     },
     "metadata": {},
     "output_type": "display_data"
    }
   ],
   "source": [
    "result = sp.optimize.linprog(c, A_ub, b_ub, A_eq, b_eq, bounds)\n",
    "print(result)\n",
    "result.x"
   ]
  },
  {
   "cell_type": "markdown",
   "metadata": {},
   "source": [
    "Variables"
   ]
  },
  {
   "cell_type": "code",
   "execution_count": null,
   "metadata": {},
   "outputs": [],
   "source": [
    "b_ub = np.array([250, 130, 235])\n",
    "b_eq = np.array([75, 230, 240, 70]) * 1.05"
   ]
  },
  {
   "cell_type": "markdown",
   "metadata": {},
   "source": [
    "Solve the problem"
   ]
  },
  {
   "cell_type": "code",
   "execution_count": null,
   "metadata": {},
   "outputs": [
    {
     "name": "stdout",
     "output_type": "stream",
     "text": [
      "       message: The problem is infeasible. (HiGHS Status 8: model_status is Infeasible; primal_status is Basic)\n",
      "       success: False\n",
      "        status: 2\n",
      "           fun: None\n",
      "             x: None\n",
      "           nit: 6\n",
      "         lower:  residual: None\n",
      "                marginals: None\n",
      "         upper:  residual: None\n",
      "                marginals: None\n",
      "         eqlin:  residual: None\n",
      "                marginals: None\n",
      "       ineqlin:  residual: None\n",
      "                marginals: None\n"
     ]
    }
   ],
   "source": [
    "result = sp.optimize.linprog(c, A_ub, b_ub, A_eq, b_eq, bounds)\n",
    "print(result)"
   ]
  },
  {
   "cell_type": "code",
   "execution_count": null,
   "metadata": {},
   "outputs": [],
   "source": []
  }
 ],
 "metadata": {
  "language_info": {
   "name": "python"
  }
 },
 "nbformat": 4,
 "nbformat_minor": 2
}
