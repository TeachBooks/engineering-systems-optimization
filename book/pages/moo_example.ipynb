{
 "cells": [
  {
   "cell_type": "markdown",
   "id": "f350b263",
   "metadata": {},
   "source": [
    "# Engine power vs emissions\n",
    "\n",
    "Click {fa}`rocket` --> {guilabel}`Live Code` to activate live coding on this page!\n",
    "\n",
    "\n",
    "\n",
    "\n",
    "## Problem\n",
    "In this problem we're trying to optimize a diesel engine for maximum power and minimum CO<sub>2</sub> emissions. Depending on the optimal engine speed, the power and CO<sub>2</sub> emissions change.\n",
    "\n",
    "The following data is available:\n",
    "\n",
    "| Rotations per minute  | CO<sub>2</sub> Emissions | Power   |\n",
    "|------|---------------|---------|\n",
    "| 800  | 708.       | 161.141 |\n",
    "| 1000 | 696.889       | 263.243 |\n",
    "| 1200 | 688.247       | 330.51 |\n",
    "| 1400 | 682.897       | 381.561 |\n",
    "| 1700 | 684.955       | 391.17 |\n",
    "| 1800 | 697.3       | 370. |\n",
    "\n",
    "This data is interpolated to obtain a continuous relation:"
   ]
  },
  {
   "cell_type": "code",
   "execution_count": null,
   "id": "0bb28c85",
   "metadata": {
    "tags": [
     "hide-input",
     "disable-execution-cell",
     "remove-output"
    ]
   },
   "outputs": [],
   "source": [
    "import numpy as np\n",
    "import scipy as sp\n",
    "import matplotlib.pyplot as plt\n",
    "%config InlineBackend.figure_formats = ['svg']\n",
    "\n",
    "RPM = np.array([800, 1000, 1200, 1400, 1700, 1800])\n",
    "CO2 = np.array([708, 696.889, 688.247, 682.897, 684.955, 697.3 ])\n",
    "POW = np.array([161.141, 263.243, 330.51 , 381.561, 391.17, 370 ])\n",
    "\n",
    "def CO2func(s):\n",
    "    return sp.interpolate.pchip_interpolate(RPM,CO2,s)\n",
    "\n",
    "def POWfunc(s):\n",
    "    return sp.interpolate.pchip_interpolate(RPM,POW,s)\n",
    "\n",
    "RPM_continuous = np.linspace(800,1800,100)\n",
    "plt.figure()\n",
    "plt.subplot(2,1,1)\n",
    "plt.plot(RPM, CO2, 'x', label='Original Data')\n",
    "plt.plot(RPM_continuous, CO2func(RPM_continuous), label='Interpolated Data')\n",
    "plt.xlabel('RPM')\n",
    "plt.ylabel('CO$_2$ (g/kWh)')\n",
    "ax = plt.gca()\n",
    "ax.spines['right'].set_color('none')\n",
    "ax.spines['top'].set_color('none')\n",
    "plt.tight_layout()\n",
    "plt.legend()\n",
    "\n",
    "plt.subplot(2,1,2)\n",
    "plt.plot(RPM, POW, 'x', label='Original Data')\n",
    "plt.plot(RPM_continuous, POWfunc(RPM_continuous), label='Interpolated Data')\n",
    "plt.xlabel('RPM')\n",
    "plt.ylabel('Power (kW)')\n",
    "ax = plt.gca()\n",
    "ax.spines['right'].set_color('none')\n",
    "ax.spines['top'].set_color('none')\n",
    "plt.tight_layout()\n",
    "plt.legend();\n"
   ]
  },
  {
   "cell_type": "markdown",
   "id": "ef4c9e9c",
   "metadata": {},
   "source": [
    "```{figure} ./figures/CO2_power.svg\n",
    ":name: RPM-CO2_power\n",
    ":width: 600px\n",
    "Interpolation of CO<sub>2</sub> emissions and Power\n",
    "```"
   ]
  },
  {
   "cell_type": "markdown",
   "id": "56fc737c",
   "metadata": {},
   "source": [
    "## Model\n",
    "\n",
    "Let's define our model in three different ways, as defined in {eq}`multi_objective_optimization_weighted`, {eq}`multi_objective_optimization_goal` and {eq}`multi_objective_optimization_pareto`.\n",
    "\n",
    "We'll define the model as follows:\n",
    "- Design variables: scalar value representing the rotations per minute ($\\text{RPM}$)\n",
    "- Objective function: weighted sum of the power and CO<sub>2</sub> emissions, max of difference with goals or pareto front\n",
    "- Bounds: only interpolation so between $800$ and $1800$ $\\text{RPM}$\n",
    "\n",
    "### Design variables\n",
    "Let's start with our design variables. In this case a logical choice could be the width, height and depth of our block\n",
    "\n",
    "```{math}\n",
    ":label: moo_x\n",
    "x= \\text{rotations per minute}\n",
    "```\n",
    "\n",
    "### Objective function\n",
    "\n",
    "Let's explore all three possible objective functions:\n",
    "\n",
    "#### Weighted objective function\n",
    "We can define the weighted objective function as defined by {eq}`multi_objective_optimization_weighted` with some predefined weights. For example a weight of $\\cfrac{1}{3}$ for the power value and $\\cfrac{2}{3}$ for the CO<sub>2</sub> emissions.\n",
    "\n",
    "```{math}\n",
    ":label: multi_objective_optimization_weighted_example\n",
    " \\mathop {\\min }\\limits_x \\left( -\\cfrac{1}{3} \\cdot f_{\\text{power}}\\left( x \\right) + \\cfrac{2}{3} \\cdot f_{\\text{CO}_2\\text{ emissions}}\\left( x \\right) \\right)\n",
    "```\n",
    "\n",
    "Please note that we need a minus for the power objective because it's an maximization objective and we now apply the weights to the non-normalized functions while they have different units. Therefore, it might be wise to apply normalization as defined by {eq}`normalizing_f`.\n",
    "\n",
    "#### Goal attainment\n",
    "If we define two fails for the power and CO<sub>2</sub> emissions, we can apply goal attainment. Those goals could be $460 \\text{ kW}$ for the generated power and $640 \\text{ g/kWh}$ for the CO<sub>2</sub> emissions. Now the objective function can as in {eq}`multi_objective_optimization_goal` as:\n",
    "\n",
    "```{math}\n",
    ":label: multi_objective_optimization_goal_example\n",
    " \\mathop {\\min }\\limits_x \\left( 460 - \\max \\left( f_{\\text{power}}\\left( x \\right), f_{\\text{CO}_2\\text{ emissions}} \\left( x \\right) - 640 \\right) \\right)\n",
    "```\n",
    "\n",
    "#### Pareto front\n",
    "Finally, we can find the pareto front by defining the problem as in {eq}`multi_objective_optimization_pareto`:\n",
    "\n",
    "```{math}\n",
    ":label: multi_objective_optimization_pareto_example\n",
    " \\mathop {\\min }\\limits_x \\left( {{\\delta }_{i}} \\cdot f_{\\text{power},\\text{normalized}}\\left( x \\right) +  \\delta_j \\cdot f_{\\text{CO}_2\\text{ emissions},\\text{normalized}}\\left( x \\right) \\right)\n",
    "```\n",
    "\n",
    "For normalization, we could take the value from our plot, but for more real-life complex problems the dimensions are higher and you cannot find the maximum and minimum of each single objective function. Therefore, let's estimate the maxima and minima as:\n",
    "\n",
    "|  | CO<sub>2</sub> Emissions | Power   |\n",
    "|------|---------------|---------|\n",
    "| Minimum value  | 680       | 150 |\n",
    "| Maximum value | 710       | 400 |\n",
    "\n",
    "This gives:\n",
    "\n",
    "```{math}\n",
    ":label: normalizing_f_example\n",
    "\\begin{matrix}\n",
    "  {{f}_{\\text{power, normalized}}}\\left( x \\right)=\\cfrac{f_{\\text{power}}\\left( x \\right)- 150}{400-150} \\\\ \n",
    "  {{f}_{\\text{CO}_2\\text{ emissions},\\text{normalized}}}\\left( x \\right)=\\cfrac{f_{\\text{CO}_2\\text{ emissions}}\\left( x \\right)- 680}{710-680} \\\\ \n",
    "\\end{matrix}\n",
    "```\n",
    "\n",
    "To find the full pareto front this optimization model has to be solved for a large set of $\\delta_i$ and $\\delta_j$"
   ]
  },
  {
   "cell_type": "markdown",
   "id": "86c8ca56",
   "metadata": {},
   "source": [
    "### Bounds\n",
    "\n",
    "Let's limit our solution to within our interpolation domain. Therefore, the bound can be defined as:\n",
    "\n",
    "```{math}\n",
    ":label: bounds_moo\n",
    "800<x < 1800\n",
    "```"
   ]
  },
  {
   "cell_type": "markdown",
   "id": "242cdb5a",
   "metadata": {},
   "source": [
    "### Find best solution manually\n",
    "\n",
    ":::{card} Test yourself\n",
    "Try and adjust the values for $x$. Can you find the optimal solution? How does it change for different models?\n",
    "<iframe src=\"../_static/power.html\" style=\"overflow:hidden;height:580;width:100%\" height=\"580\" width=\"100%\"> frameborder=\"0\"></iframe>\n",
    ":::"
   ]
  },
  {
   "cell_type": "markdown",
   "id": "2a609af6",
   "metadata": {},
   "source": [
    "## Method\n",
    "\n",
    "Now let's solve this problem using an optimization method. The interpolated data is stored in `CO2func` and `POWfunc`."
   ]
  },
  {
   "cell_type": "markdown",
   "id": "e567e5b5",
   "metadata": {},
   "source": [
    "### Import libraries"
   ]
  },
  {
   "cell_type": "code",
   "execution_count": null,
   "id": "d4f3fe4b",
   "metadata": {
    "tags": [
     "disable-execution-cell"
    ]
   },
   "outputs": [],
   "source": [
    "import scipy as sp\n",
    "import numpy as np\n",
    "import matplotlib.pyplot as plt"
   ]
  },
  {
   "cell_type": "code",
   "execution_count": 6,
   "id": "2871c599",
   "metadata": {
    "tags": [
     "thebe-remove-input-init",
     "auto-execute-page"
    ]
   },
   "outputs": [],
   "source": [
    "import scipy as sp \n",
    "import numpy as np\n",
    "import matplotlib.pyplot as plt"
   ]
  },
  {
   "cell_type": "markdown",
   "id": "c1e8ff92",
   "metadata": {},
   "source": [
    "### Define variables\n",
    "As before, we don't need to specify our variable $x$ itself as defined in {eq}`nonlinear_constrained_optimization_x`. However, this optimization method requires an initial guess. An arbitrary value is chosen here:"
   ]
  },
  {
   "cell_type": "code",
   "execution_count": 10,
   "id": "38cfe848",
   "metadata": {
    "tags": [
     "thebe-remove-input-init"
    ]
   },
   "outputs": [],
   "source": [
    "RPM = np.array([800, 1000, 1200, 1400, 1700, 1800])\n",
    "CO2 = np.array([708, 696.889, 688.247, 682.897, 684.955, 697.3 ])\n",
    "POW = np.array([161.141, 263.243, 330.51 , 381.561, 391.17, 370 ])\n",
    "\n",
    "def CO2func(s):\n",
    "    return sp.interpolate.pchip_interpolate(RPM,CO2,s)\n",
    "\n",
    "def POWfunc(s):\n",
    "    return sp.interpolate.pchip_interpolate(RPM,POW,s);"
   ]
  },
  {
   "cell_type": "code",
   "execution_count": 12,
   "id": "a7a3e663",
   "metadata": {},
   "outputs": [],
   "source": [
    "x0 = np.array(1200)"
   ]
  },
  {
   "cell_type": "markdown",
   "id": "1333c1bb",
   "metadata": {},
   "source": [
    "### Define objective function\n",
    "\n",
    "Let's define the objective function for each of the three models\n",
    "\n",
    "#### Weighted objective function\n",
    "\n",
    "The objective function was defined in {eq}`multi_objective_optimization_weighted_example`, which gives:"
   ]
  },
  {
   "cell_type": "code",
   "execution_count": 13,
   "id": "c753c482",
   "metadata": {},
   "outputs": [],
   "source": [
    "def weighted_obj(x):\n",
    "    delta_p = 1/3\n",
    "    delta_c = 1 - delta_p\n",
    "    return -delta_p * POWfunc(x) + delta_c * CO2func(x)"
   ]
  },
  {
   "cell_type": "markdown",
   "id": "d568d456",
   "metadata": {},
   "source": [
    "#### Goal attainment\n",
    "\n",
    "The objective function was defined in {eq}`multi_objective_optimization_goal_example`, which gives:"
   ]
  },
  {
   "cell_type": "code",
   "execution_count": 14,
   "id": "9131bdfc",
   "metadata": {},
   "outputs": [],
   "source": [
    "def goal_attainment(x):\n",
    "    Pt = 460\n",
    "    Ct = 640\n",
    "    return max(Pt - POWfunc(x),CO2func(x)-Ct)"
   ]
  },
  {
   "cell_type": "markdown",
   "id": "20a34e4e",
   "metadata": {},
   "source": [
    "#### Pareto front\n",
    "\n",
    "For the pareto front, the objective functions needed to be normalized as defiend by `eq`{normalizing_f_example}:"
   ]
  },
  {
   "cell_type": "code",
   "execution_count": 15,
   "id": "75e23af0",
   "metadata": {},
   "outputs": [],
   "source": [
    "def POWfunc_normalized(x):\n",
    "    return (POWfunc(x) - 150)/(400 - 150)\n",
    "\n",
    "def CO2func_normalized(x):\n",
    "    return (CO2func(x) - 680)/(710 - 680)"
   ]
  },
  {
   "cell_type": "markdown",
   "id": "c5c95606",
   "metadata": {},
   "source": [
    "The objective function was defined in {eq}`multi_objective_optimization_pareto_example`, which gives:"
   ]
  },
  {
   "cell_type": "code",
   "execution_count": 16,
   "id": "3d257378",
   "metadata": {},
   "outputs": [],
   "source": [
    "def weighted_obj_pareto(x):\n",
    "    return -delta_p * POWfunc_normalized(x) + delta_c * CO2func_normalized(x)"
   ]
  },
  {
   "cell_type": "markdown",
   "id": "8ac5aae2",
   "metadata": {},
   "source": [
    "in which delta_p and delta_c are defined when solving this problem"
   ]
  },
  {
   "cell_type": "markdown",
   "id": "0b45073a",
   "metadata": {},
   "source": [
    "### Define bounds\n",
    "The one single bound was defined in {eq}`bounds_moo` and result in:"
   ]
  },
  {
   "cell_type": "code",
   "execution_count": 17,
   "id": "42656ee2",
   "metadata": {},
   "outputs": [],
   "source": [
    "bounds = [[800,1800]]"
   ]
  },
  {
   "cell_type": "markdown",
   "id": "76ddef0f",
   "metadata": {},
   "source": [
    "### Solve the problem"
   ]
  },
  {
   "cell_type": "markdown",
   "id": "18dba09c",
   "metadata": {},
   "source": [
    "Now let's solve the problem for each of the three models.\n",
    "\n",
    "#### Weighted objective function"
   ]
  },
  {
   "cell_type": "code",
   "execution_count": 18,
   "id": "d2d014c1",
   "metadata": {},
   "outputs": [
    {
     "name": "stdout",
     "output_type": "stream",
     "text": [
      "  message: CONVERGENCE: NORM_OF_PROJECTED_GRADIENT_<=_PGTOL\n",
      "  success: True\n",
      "   status: 0\n",
      "      fun: 325.81425292950235\n",
      "        x: [ 1.613e+03]\n",
      "      nit: 7\n",
      "      jac: [-5.684e-06]\n",
      "     nfev: 26\n",
      "     njev: 13\n",
      " hess_inv: <1x1 LbfgsInvHessProduct with dtype=float64>\n"
     ]
    }
   ],
   "source": [
    "result = sp.optimize.minimize(fun = weighted_obj, x0 = x0, bounds = bounds)\n",
    "print(result)"
   ]
  },
  {
   "cell_type": "markdown",
   "id": "5c92dab4",
   "metadata": {},
   "source": [
    "#### Goal attainment"
   ]
  },
  {
   "cell_type": "code",
   "execution_count": 19,
   "id": "89a9bfc1",
   "metadata": {},
   "outputs": [
    {
     "name": "stdout",
     "output_type": "stream",
     "text": [
      "  message: CONVERGENCE: NORM_OF_PROJECTED_GRADIENT_<=_PGTOL\n",
      "  success: True\n",
      "   status: 0\n",
      "      fun: 68.83000008096866\n",
      "        x: [ 1.700e+03]\n",
      "      nit: 12\n",
      "      jac: [-5.684e-06]\n",
      "     nfev: 50\n",
      "     njev: 25\n",
      " hess_inv: <1x1 LbfgsInvHessProduct with dtype=float64>\n"
     ]
    }
   ],
   "source": [
    "result2 = sp.optimize.minimize(fun = goal_attainment, x0 = x0, bounds=bounds)\n",
    "print(result2)"
   ]
  },
  {
   "cell_type": "markdown",
   "id": "ba5d92ea",
   "metadata": {},
   "source": [
    "#### Pareto front\n",
    "\n",
    "For the pareto front we need to solve this problem for a collection of weights. The results are stored in a list"
   ]
  },
  {
   "cell_type": "code",
   "execution_count": 26,
   "id": "476d4e0d",
   "metadata": {},
   "outputs": [],
   "source": [
    "x_pareto_opt =[]\n",
    "for delta_p in np.linspace(0,1,100):\n",
    "    delta_c = 1- delta_p\n",
    "    result_i = sp.optimize.minimize(fun = weighted_obj_pareto,x0=x0,bounds=bounds)\n",
    "    x_pareto_opt.append(result_i.x[0])"
   ]
  },
  {
   "cell_type": "code",
   "execution_count": 29,
   "id": "a58bf1f8",
   "metadata": {},
   "outputs": [
    {
     "data": {
      "image/png": "[encoded data removed]",
      "text/plain": [
       "<Figure size 640x480 with 1 Axes>"
      ]
     },
     "metadata": {},
     "output_type": "display_data"
    }
   ],
   "source": [
    "P_pareto_opt = POWfunc(x_pareto_opt)\n",
    "C_pareto_opt = CO2func(x_pareto_opt)\n",
    "\n",
    "plt.figure()\n",
    "plt.plot(C_pareto_opt,P_pareto_opt,'x')\n",
    "plt.ylabel('Power (kW)')\n",
    "plt.xlabel('CO$_2$ (g/kWh)')\n",
    "ax = plt.gca()\n",
    "ax.invert_yaxis()\n",
    "ax.spines['right'].set_color('none')\n",
    "ax.spines['top'].set_color('none')"
   ]
  },
  {
   "cell_type": "markdown",
   "id": "702e8343",
   "metadata": {},
   "source": [
    "## Exercise\n",
    "\n",
    "...\n"
   ]
  },
  {
   "cell_type": "markdown",
   "id": "1c185997",
   "metadata": {},
   "source": [
    "## Questions, discussions and comments\n",
    "<script src=\"https://utteranc.es/client.js\"\n",
    "        repo=\"TeachBooks/engineering-systems-optimization\"\n",
    "        issue-term=\"title\"\n",
    "        theme=\"github-light\"\n",
    "        crossorigin=\"anonymous\"\n",
    "        async>\n",
    "</script>"
   ]
  }
 ],
 "metadata": {
  "kernelspec": {
   "display_name": "Python 3 (ipykernel)",
   "language": "python",
   "name": "python3"
  },
  "language_info": {
   "codemirror_mode": {
    "name": "ipython",
    "version": 3
   },
   "file_extension": ".py",
   "mimetype": "text/x-python",
   "name": "python",
   "nbconvert_exporter": "python",
   "pygments_lexer": "ipython3",
   "version": "3.9.18"
  }
 },
 "nbformat": 4,
 "nbformat_minor": 5
}
