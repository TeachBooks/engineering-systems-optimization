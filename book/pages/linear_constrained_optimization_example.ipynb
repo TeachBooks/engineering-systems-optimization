{
 "cells": [
  {
   "cell_type": "markdown",
   "metadata": {},
   "source": [
    "# Book distribution\n",
    "\n",
    "\n",
    "```{custom_download_link} ./linear_constrained_optimization_stripped.ipynb\n",
    ":replace_default: \"True\"\n",
    "```\n",
    "\n",
    "Click {fa}`rocket` --> {guilabel}`Live Code` to activate live coding on this page!\n",
    "\n",
    "## Problem\n",
    "We'll consider planning the shipment of books from distribution centers to stores where they are needed. There are three distribution centers at different cities: Amsterdam, Den Haag and Rotterdam. They have $250$, $130$ and $235$ $\\text{books}$. There are four stores in Haarlem, Utrecht, Delft and Breda. They ordered $70$, $230$, $240$ and $70$ $\\text{books}$. All stores can receive books from all distribution centers, as shown below:\n",
    "\n",
    "<iframe width=\"100%\" height=\"600\" frameborder=\"0\" allowfullscreen allow=\"geolocation\" src=\"//umap.openstreetmap.fr/nl/map/linear-constrained-optimization-problem_1054820?scaleControl=false&miniMap=false&scrollWheelZoom=false&zoomControl=false&editMode=disabled&moreControl=false&searchControl=false&tilelayersControl=false&embedControl=false&datalayersControl=false&onLoadPanel=none&captionBar=false&captionMenus=false&fullscreenControl=false&locateControl=false&measureControl=false&editinosmControl=false&starControl=false&datalayers=b16d6f26-9a8c-4e85-8448-9f44b6b4131e#9/52.0234/4.7324\"></iframe>\n",
    "\n",
    "There are the following costs in $\\text{€ of transportation per book}$: \n",
    "\n",
    "|     From   \\ To       |     Haarlem    |     Utrecht    |     Delft    |      Breda     |\n",
    "|:---------------------:|:--------------:|:--------------:|:------------:|:--------------:|\n",
    "|        Amsterdam      |      $ 7 $     |     $  11 $    |    $ 16 $    |     $ 26 $     |\n",
    "|        Den Haag       |      $ 7 $     |     $  13 $    |    $  5 $    |     $ 20 $     |\n",
    "|        Rotterdam      |      $16 $     |     $  28 $    |    $  7 $    |     $ 12 $     |\n",
    "\n",
    "The goal is to minimize the shipping costs while meeting demand."
   ]
  },
  {
   "cell_type": "markdown",
   "metadata": {},
   "source": [
    "## Model\n",
    "We need to define our model in the form of a linear constrained optimization model {eq}`linear_constrained_optimization` and to apply `scipy.optimize.linprog` in matrix notation {eq}`linear_constrained_optimization_vector`.\n",
    "\n",
    "We'll define the model as follows:\n",
    "- Design variables: how many books go from which distribution center to which store\n",
    "- Objective function: minimum shippings costs \n",
    "- Inequality constraint functions: don't run out of stock in warehouses\n",
    "- Equality constraint functions: meet demand of stores\n",
    "- Bounds: book are only transported from distribution centers to stores."
   ]
  },
  {
   "cell_type": "markdown",
   "metadata": {},
   "source": [
    "### Design variables\n",
    "Let's start with our design variables. In this case that could be the amount of books $x$ transported from each distribution center $i = \\left[ 1 \\left(\\text{Amsterdam}\\right),2 \\left(\\text{Den Haag}\\right),3 \\left( \\text{Rotterdam}\\right) \\right] $ to each store $j = \\left[ 1 \\left( \\text{Haarlem}\\right),2  \\left(\\text{Utrecht}\\right),3 \\left(\\text{Delft}\\right),4 \\left( \\text{Breda} \\right)\\right] $:\n",
    "\n",
    "```{math}\n",
    ":label: linear_constrained_optimization_x_matrix\n",
    "\\begin{align}\n",
    "& x_{ij}  = \\left[ \\begin{matrix}\n",
    "{{x}_{\\text{Amsterdam} \\to \\text{Haarlem}}} & {{x}_{\\text{Amsterdam} \\to \\text{Utrecht}}} & {{x}_{\\text{Amsterdam} \\to \\text{Delft}}} & {{x}_{\\text{Amsterdam} \\to \\text{Breda}}}  \\\\\n",
    "   {{x}_{\\text{Den Haag} \\to \\text{Haarlem}}} & {{x}_{\\text{Den Haag} \\to \\text{Utrecht}}} & {{x}_{\\text{Den Haag} \\to \\text{Delft}}} & {{x}_{\\text{Den Haag} \\to \\text{Breda}}}  \\\\\n",
    "   {{x}_{\\text{Rotterdam} \\to \\text{Haarlem}}} & {{x}_{\\text{Rotterdam} \\to \\text{Utrecht}}} & {{x}_{\\text{Rotterdam} \\to \\text{Delft}}} & {{x}_{\\text{Rotterdam} \\to \\text{Breda}}} \\end{matrix} \\right] \\\\\\\\\n",
    "& x_{ij} = \\left[ \\begin{matrix}\n",
    "   {{x}_{11}} & {{x}_{12}} & {{x}_{13}} & {{x}_{14}}  \\\\\n",
    "   {{x}_{21}} & {{x}_{22}} & {{x}_{23}} & {{x}_{24}}  \\\\\n",
    "   {{x}_{31}} & {{x}_{32}} & {{x}_{33}} & {{x}_{34}}  \\\\\n",
    "\\end{matrix} \\right]\n",
    "\\end{align}\n",
    "```\n",
    "\n",
    ":::{card} Test Yourself\n",
    "<iframe src=\"https://tudelft.h5p.com/content/1292246306931991957/embed\" aria-label=\"Design variable size\" width=\"1088\" height=\"637\" frameborder=\"0\" allowfullscreen=\"allowfullscreen\" allow=\"autoplay *; geolocation *; microphone *; camera *; midi *; encrypted-media *\"></iframe><script src=\"https://tudelft.h5p.com/js/h5p-resizer.js\" charset=\"UTF-8\"></script>\n",
    ":::\n",
    "\n",
    "Alternatively, the design variables can be expressed as follows:\n",
    "\n",
    "```{math}\n",
    ":label: linear_constrained_optimization_x_vector\n",
    "\\begin{align}\n",
    "&x  = \\left[ \\begin{matrix}\n",
    "   {{x}_{\\text{Amsterdam} \\to \\text{Haarlem}}} \\\\ {{x}_{\\text{Amsterdam} \\to \\text{Utrecht}}} \\\\ {{x}_{\\text{Amsterdam} \\to \\text{Delft}}} \\\\ {{x}_{\\text{Amsterdam} \\to \\text{Breda}}}  \\\\\n",
    "   {{x}_{\\text{Den Haag} \\to \\text{Haarlem}}} \\\\ {{x}_{\\text{Den Haag} \\to \\text{Utrecht}}} \\\\ {{x}_{\\text{Den Haag} \\to \\text{Delft}}} \\\\ {{x}_{\\text{Den Haag} \\to \\text{Breda}}}  \\\\\n",
    "   {{x}_{\\text{Rotterdam} \\to \\text{Haarlem}}} \\\\ {{x}_{\\text{Rotterdam} \\to \\text{Utrecht}}} \\\\ {{x}_{\\text{Rotterdam} \\to \\text{Delft}}} \\\\ {{x}_{\\text{Rotterdam} \\to \\text{Breda}}} \\end{matrix} \\right] \\\\\\\\\n",
    "& x = \\left[ \\begin{matrix}\n",
    "   {{x}_{11}} & {{x}_{12}} & {{x}_{13}} & {{x}_{14}}  &\n",
    "   {{x}_{21}} & {{x}_{22}} & {{x}_{23}} & {{x}_{24}}  &\n",
    "   {{x}_{31}} & {{x}_{32}} & {{x}_{33}} & {{x}_{34}}\n",
    "\\end{matrix} \\right]^T\n",
    "\\end{align}\n",
    "```"
   ]
  },
  {
   "cell_type": "markdown",
   "metadata": {},
   "source": [
    "### Objective function\n",
    "Now we can define the costs as the sum of the amount of books transported with the cost per transport as in {eq}`linear_constrained_optimization`in the form of $\\mathop {\\min }\\limits_x f\\left(x_{ij}\\right) $:\n",
    "\n",
    "```{math}\n",
    ":label: linear_constrained_optimization_f\n",
    "{\\min }\\limits_x f\\left(x_{ij}\\right) = 7x_{11} + 11x_{12} + 16x_{13} + 26x_{14} + 7x_{21} + 13x_{22} + 5x_{23} + 20x_{24} + 16x_{31} + 28x_{32} + 7x_{33} + 12x_{34}\n",
    "```\n",
    "\n",
    "This can be converted to matrix notation. In case of the design variables defined as in {eq}`linear_constrained_optimization_vector` in the form $\\mathop {\\min }\\limits_x {c^T}x$ with $c$:\n",
    "\n",
    "```{math}\n",
    ":label: linear_constrained_optimization_c\n",
    "c = {{\\left[ \\begin{matrix}\n",
    "   7 & 11 & 16 & 26 & 7 & 13 & 5 & 20 & 16 & 28 & 7 & 12  \\\\\n",
    "\\end{matrix} \\right]}^{T}}\n",
    "```\n",
    "\n",
    ":::{card} Test Yourself\n",
    "<iframe src=\"https://tudelft.h5p.com/content/1292246313197632677/embed\" aria-label=\"Objective function\" width=\"1088\" height=\"637\" frameborder=\"0\" allowfullscreen=\"allowfullscreen\" allow=\"autoplay *; geolocation *; microphone *; camera *; midi *; encrypted-media *\"></iframe><script src=\"https://tudelft.h5p.com/js/h5p-resizer.js\" charset=\"UTF-8\"></script>\n",
    ":::"
   ]
  },
  {
   "cell_type": "markdown",
   "metadata": {},
   "source": [
    "### Inequality constraints\n",
    "\n",
    "Let's continue with the inequality constraints, which should deal with that the stock of the distribution centers should always be bigger than $0$. Or, stated differently, the sum of the amount of books transported out of each distribution center should be small or equal than the stock of each distribution center. These can be defined in the form ${{g}}\\left(x_{ij}\\right) \\le 0$ as:\n",
    "\n",
    "```{math}\n",
    ":label: linear_constrained_optimization_g\n",
    "g_1\\left(x_{ij}\\right) = x_{11} + x_{12} + x_{13} + x_{14} - 250 \\\\\n",
    "g_2\\left(x_{ij}\\right) = x_{21} + x_{22} + x_{23} + x_{24} - 130 \\\\\n",
    "g_3\\left(x_{ij}\\right) = x_{31} + x_{32} + x_{33} + x_{34} - 235\n",
    "```\n",
    "\n",
    "Or in matrix notation in the form ${A_{ub}}x \\le {b_{ub}}$ as:\n",
    "```{math}\n",
    ":label: linear_constrained_optimization_g_matrix\n",
    "\\left[ \\begin{matrix}\n",
    "   1 & 1 & 1 & 1 & 0 & 0 & 0 & 0 & 0 & 0 & 0 & 0  \\\\\n",
    "   0 & 0 & 0 & 0 & 1 & 1 & 1 & 1 & 0 & 0 & 0 & 0  \\\\\n",
    "   0 & 0 & 0 & 0 & 0 & 0 & 0 & 0 & 1 & 1 & 1 & 1  \\\\\n",
    "\\end{matrix} \\right] x \\le \\left[ \\begin{matrix}\n",
    "   250  \\\\\n",
    "   130  \\\\\n",
    "   235  \\\\\n",
    "\\end{matrix} \\right]\n",
    "```\n",
    "\n",
    ":::{card} Test yourself\n",
    "<iframe src=\"https://tudelft.h5p.com/content/1292246318200839587/embed\" aria-label=\"Clone of Objective function\" width=\"1088\" height=\"637\" frameborder=\"0\" allowfullscreen=\"allowfullscreen\" allow=\"autoplay *; geolocation *; microphone *; camera *; midi *; encrypted-media *\"></iframe><script src=\"https://tudelft.h5p.com/js/h5p-resizer.js\" charset=\"UTF-8\"></script>\n",
    ":::"
   ]
  },
  {
   "cell_type": "markdown",
   "metadata": {},
   "source": [
    "### Equality constraints\n",
    "\n",
    "Finally, let's define the inequality constraints, which should deal with that the each store receives the correct amount of books. Or, stated differently, the sum amount of paper books transported to each store should be equal to the demand of that store. These can be defined in the from ${h}\\left(x_{ij}\\right) = 0$ as:\n",
    "\n",
    "```{math}\n",
    ":label: linear_constrained_optimization_g_eq\n",
    "h_1\\left(x_{ij}\\right) = x_{11} + x_{21} + x_{31} - 70 \\\\\n",
    "h_2\\left(x_{ij}\\right) = x_{12} + x_{22} + x_{32} - 230 \\\\\n",
    "h_3\\left(x_{ij}\\right) = x_{13} + x_{23} + x_{33} - 240 \\\\\n",
    "h_3\\left(x_{ij}\\right) = x_{14} + x_{24} + x_{34} - 70\n",
    "```\n",
    "\n",
    "Or in matrix notation in the form ${A_{eq}}x = {b_{eq}}$ as:\n",
    "```{math}\n",
    ":label: linear_constrained_optimization_g_eq_matrix\n",
    "\\left[ \\begin{matrix}\n",
    "   1 & 0 & 0 & 0 & 1 & 0 & 0 & 0 & 1 & 0 & 0 & 0  \\\\\n",
    "   0 & 1 & 0 & 0 & 0 & 1 & 0 & 0 & 0 & 1 & 0 & 0  \\\\\n",
    "   0 & 0 & 1 & 0 & 0 & 0 & 1 & 0 & 0 & 0 & 1 & 0  \\\\\n",
    "   0 & 0 & 0 & 1 & 0 & 0 & 0 & 1 & 0 & 0 & 0 & 1  \\\\\n",
    "\\end{matrix} \\right]x=\\left[ \\begin{matrix}\n",
    "   70  \\\\\n",
    "   230  \\\\\n",
    "   240  \\\\\n",
    "   70  \\\\\n",
    "\\end{matrix} \\right]\n",
    "```"
   ]
  },
  {
   "cell_type": "markdown",
   "metadata": {},
   "source": [
    "### Bounds\n",
    "\n",
    "The number of books cannot be negative (assuming that book are only transported from distribution centers to stores). The maximum number of books transported could be the number of book available in a distribution center, but this is already defined by the constraint functions. Therefore, the bounds can be defined as:\n",
    "\n",
    "```{math}\n",
    ":label: bounds\n",
    "0<{{x}_{i}}\\text{   } i=1,2,...,12\n",
    "```"
   ]
  },
  {
   "cell_type": "markdown",
   "metadata": {},
   "source": [
    "## Method\n",
    "\n",
    "Now let's solve this problem using an optimization method."
   ]
  },
  {
   "cell_type": "markdown",
   "metadata": {},
   "source": [
    "### Import libraries\n",
    "\n",
    "As this problem is higher-dimensional, we cannot easily plot the solution space. Therefore, we won't import `matplotlib`."
   ]
  },
  {
   "cell_type": "code",
   "execution_count": 1,
   "metadata": {
    "tags": [
     "thebe-remove-input-init",
     "auto-execute-page"
    ]
   },
   "outputs": [],
   "source": [
    "import scipy as sp\n",
    "import numpy as np"
   ]
  },
  {
   "cell_type": "code",
   "execution_count": 2,
   "metadata": {
    "tags": [
     "disable-execution-cell"
    ]
   },
   "outputs": [],
   "source": [
    "import scipy as sp \n",
    "import numpy as np"
   ]
  },
  {
   "cell_type": "markdown",
   "metadata": {},
   "source": [
    "### Define variables\n",
    "\n",
    "We can define all our variables as numpy array's. As before, the (length of) design variable itself doesn't have to be specified. For vectors, you don't have to care about them being row or column vectors.\n",
    "\n",
    "To reduce the search space, the bounds are set between $0$ and the amount of books per distribution center."
   ]
  },
  {
   "cell_type": "code",
   "execution_count": 2,
   "metadata": {
    "tags": [
     "thebe-init"
    ]
   },
   "outputs": [],
   "source": [
    "# x is design variable array with size (12,)\n",
    "\n",
    "bounds = np.array([[0, None],\n",
    "          [0, None],\n",
    "          [0, None],\n",
    "          [0, None],\n",
    "          [0, None],\n",
    "          [0, None],\n",
    "          [0, None],\n",
    "          [0, None],\n",
    "          [0, None],\n",
    "          [0, None],\n",
    "          [0, None],\n",
    "          [0, None]])\n",
    "\n",
    "\n",
    "A_ub = np.array([[1, 1, 1, 1, 0, 0, 0, 0, 0, 0, 0, 0],\n",
    "                [0, 0, 0, 0, 1, 1, 1, 1, 0, 0, 0, 0],\n",
    "                [0, 0, 0, 0, 0, 0, 0, 0, 1, 1, 1, 1]])\n",
    "b_ub = np.array([250, 130, 235])\n",
    "\n",
    "A_eq = np.array([[1, 0, 0, 0, 1, 0, 0, 0, 1, 0, 0, 0],\n",
    "                [0, 1, 0, 0, 0, 1, 0, 0, 0, 1, 0, 0],\n",
    "                [0, 0, 1, 0, 0, 0, 1, 0, 0, 0, 1, 0],\n",
    "                [0, 0, 0, 1, 0, 0, 0, 1, 0, 0, 0, 1]])\n",
    "b_eq = np.array([70, 230, 240, 70])"
   ]
  },
  {
   "cell_type": "markdown",
   "metadata": {},
   "source": [
    "### Define objective function"
   ]
  },
  {
   "cell_type": "code",
   "execution_count": 3,
   "metadata": {
    "tags": [
     "thebe-init"
    ]
   },
   "outputs": [],
   "source": [
    "c = np.array([7, 11, 16, 26, 7, 13, 5, 20, 16, 28, 7, 12])"
   ]
  },
  {
   "cell_type": "markdown",
   "metadata": {},
   "source": [
    "### Solve the problem"
   ]
  },
  {
   "cell_type": "code",
   "execution_count": 4,
   "metadata": {
    "tags": [
     "thebe-init"
    ]
   },
   "outputs": [
    {
     "name": "stdout",
     "output_type": "stream",
     "text": [
      "        message: Optimization terminated successfully. (HiGHS Status 7: Optimal)\n",
      "        success: True\n",
      "         status: 0\n",
      "            fun: 5380.0\n",
      "              x: [ 2.000e+01  2.300e+02  0.000e+00  0.000e+00  5.000e+01\n",
      "                   0.000e+00  8.000e+01  0.000e+00  0.000e+00  0.000e+00\n",
      "                   1.600e+02  7.000e+01]\n",
      "            nit: 7\n",
      "          lower:  residual: [ 2.000e+01  2.300e+02  0.000e+00  0.000e+00\n",
      "                              5.000e+01  0.000e+00  8.000e+01  0.000e+00\n",
      "                              0.000e+00  0.000e+00  1.600e+02  7.000e+01]\n",
      "                 marginals: [ 0.000e+00  0.000e+00  1.100e+01  1.600e+01\n",
      "                              0.000e+00  2.000e+00  0.000e+00  1.000e+01\n",
      "                              7.000e+00  1.500e+01  0.000e+00  0.000e+00]\n",
      "          upper:  residual: [       inf        inf        inf        inf\n",
      "                                    inf        inf        inf        inf\n",
      "                                    inf        inf        inf        inf]\n",
      "                 marginals: [ 0.000e+00  0.000e+00  0.000e+00  0.000e+00\n",
      "                              0.000e+00  0.000e+00  0.000e+00  0.000e+00\n",
      "                              0.000e+00  0.000e+00  0.000e+00  0.000e+00]\n",
      "          eqlin:  residual: [ 0.000e+00  0.000e+00  0.000e+00  0.000e+00]\n",
      "                 marginals: [ 9.000e+00  1.300e+01  7.000e+00  1.200e+01]\n",
      "        ineqlin:  residual: [ 0.000e+00  0.000e+00  5.000e+00]\n",
      "                 marginals: [-2.000e+00 -2.000e+00 -0.000e+00]\n",
      " mip_node_count: 0\n",
      " mip_dual_bound: 0.0\n",
      "        mip_gap: 0.0\n"
     ]
    }
   ],
   "source": [
    "result = sp.optimize.linprog(c, A_ub, b_ub, A_eq, b_eq, bounds)\n",
    "print(result)"
   ]
  },
  {
   "cell_type": "markdown",
   "metadata": {},
   "source": [
    "## Exercise"
   ]
  },
  {
   "cell_type": "markdown",
   "metadata": {},
   "source": [
    ":::{card}\n",
    "Click {fa}`rocket` --> {guilabel}`Live Code` to activate live coding on this page.\n",
    "<iframe src=\"https://tudelft.h5p.com/content/1292246941187853367/embed\" aria-label=\"Activate constraints\" width=\"1088\" height=\"637\" frameborder=\"0\" allowfullscreen=\"allowfullscreen\" allow=\"autoplay *; geolocation *; microphone *; camera *; midi *; encrypted-media *\"></iframe><script src=\"https://tudelft.h5p.com/js/h5p-resizer.js\" charset=\"UTF-8\"></script>\n",
    ":::\n",
    "\n",
    ":::{card}\n",
    "<iframe src=\"https://tudelft.h5p.com/content/1292246943302196447/embed\" aria-label=\"Changing dehmand\" width=\"1088\" height=\"637\" frameborder=\"0\" allowfullscreen=\"allowfullscreen\" allow=\"autoplay *; geolocation *; microphone *; camera *; midi *; encrypted-media *\"></iframe><script src=\"https://tudelft.h5p.com/js/h5p-resizer.js\" charset=\"UTF-8\"></script>\n",
    ":::"
   ]
  },
  {
   "cell_type": "markdown",
   "metadata": {},
   "source": [
    "## Questions, discussions and comments\n",
    "<script src=\"https://utteranc.es/client.js\"\n",
    "        repo=\"TeachBooks/engineering-systems-optimization\"\n",
    "        issue-term=\"title\"\n",
    "        theme=\"github-light\"\n",
    "        crossorigin=\"anonymous\"\n",
    "        async>\n",
    "</script>"
   ]
  }
 ],
 "metadata": {
  "kernelspec": {
   "display_name": "base",
   "language": "python",
   "name": "python3"
  },
  "language_info": {
   "codemirror_mode": {
    "name": "ipython",
    "version": 3
   },
   "file_extension": ".py",
   "mimetype": "text/x-python",
   "name": "python",
   "nbconvert_exporter": "python",
   "pygments_lexer": "ipython3",
   "version": "3.9.18"
  }
 },
 "nbformat": 4,
 "nbformat_minor": 2
}
