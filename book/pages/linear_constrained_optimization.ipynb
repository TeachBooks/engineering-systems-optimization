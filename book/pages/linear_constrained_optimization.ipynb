{
 "cells": [
  {
   "cell_type": "markdown",
   "id": "c0993cf9",
   "metadata": {},
   "source": [
    "# Linear constrained optimization\n",
    "\n",
    "```{contents}\n",
    ":local:\n",
    "```\n",
    "\n",
    "In this chapter, we'll cover how to apply `scipy.optimize.minimize` to unconstrained optimization problems. As a reminder, unconstrained optimization considers:\n",
    "\n",
    "```{math}\n",
    ":label: linear_constrained_optimization\n",
    "\\eqalign{\n",
    "  & \\mathop {\\min }\\limits_x f\\left( x \\right)  \\cr \n",
    "  & {\\text{such that}} & {{\\rm{g}}_i}\\left( x \\right) \\le 0 & i = 1,m  \\cr \n",
    "  &  &  {h_j}\\left( x \\right) = 0 & j = 1,p  \\cr \n",
    "  &  &  x_k^l \\le {x_k} \\le x_k^u & i = 1,n \\cr} \n",
    "```\n",
    "with:\n",
    "- $x$ the $n$ design variables\n",
    "- $g_i(x)$ the $m$ linear inequality constraints\n",
    "- $h_i(x)$ the $p$ linear inequality constraints\n",
    "- $x_k^l$ and $x_k^u$ the $n$ low er and upper bounds of the design variable\n",
    "\n",
    "Because all functions are linear, this problem can be rewritten as:\n",
    "\n",
    "```{math}\n",
    ":label: linear_constrained_optimization_vector\n",
    "\n",
    "\\eqalign{\n",
    "  & \\mathop {\\min }\\limits_x \\;{c^T}x  \\cr \n",
    "  & {\\text{such that}}\\; & {A_{ub}}x \\le {b_{ub}}  \\cr \n",
    "  &  &  {A_{eq}}x = {b_{eq}}  \\cr \n",
    "  &  &  x_k^l \\le {x_k} \\le x_k^u & i = 1,n \\cr} \n",
    "```\n",
    "with:\n",
    "- $x$ the $n$ design variables\n",
    "- $c$ the $n$ coefficients of the linear objective function\n",
    "- $A_{ub}$ the inequality constraint matrix of $m$ inequality constraints\n",
    "- $b_{ub}$ the inequality constraint vector of $m$ inequality constraints\n",
    "- $A_{eq}$ the equality constraint matrix of $p$ equality constraints\n",
    "- $b_{eq}$ the equality constraint vector of $p$ equality constraints\n",
    "- $x_k^l$ and $x_k^u$ the $n$ low er and upper bounds of the design variable\n",
    "\n",
    "## Method\n",
    "For linear programs, we can use the function `scipy.optimize.linprog`. In contrast to `scipy.optimize.minimize`, this function is limited to linear functions. The documentation of this function is available here: https://docs.scipy.org/doc/scipy/reference/generated/scipy.optimize.linprog.html. In this course we'll cover only the relevant parts.\n",
    "\n",
    "Again, we won't use all options, but a minimum requirement for our problem is the command `scipy.optimize.linprog(c, A_ub, b_ub, A_eq, b_eq)` with:\n",
    " - `c`, a onedimensional numpy array with the $n$ coefficients of the linear objective function. The `scipy.optimize.linprog` function takes care of multiplying this with the design variable $x$\n",
    " - `A_ub`, a twodimensional numpy array with the $n$ coefficient of the $m$ linear inequality constraints.\n",
    " - ..."
   ]
  },
  {
   "cell_type": "markdown",
   "id": "77e11707",
   "metadata": {},
   "source": [
    "\n",
    "\n",
    "Import libraries"
   ]
  },
  {
   "cell_type": "code",
   "execution_count": 1,
   "id": "7e495837",
   "metadata": {},
   "outputs": [],
   "source": [
    "import scipy as sp\n",
    "import numpy as np"
   ]
  },
  {
   "cell_type": "markdown",
   "id": "bee59b98",
   "metadata": {},
   "source": [
    "Variables"
   ]
  },
  {
   "cell_type": "code",
   "execution_count": 3,
   "id": "48edf932",
   "metadata": {},
   "outputs": [],
   "source": [
    "# x is design variable (12,)\n",
    "\n",
    "bounds = np.array([[0, 250],\n",
    "          [0, 250],\n",
    "          [0, 250],\n",
    "          [0, 250],\n",
    "          [0, 130],\n",
    "          [0, 130],\n",
    "          [0, 130],\n",
    "          [0, 130],\n",
    "          [0, 235],\n",
    "          [0, 235],\n",
    "          [0, 235],\n",
    "          [0, 235]])\n",
    "\n",
    "\n",
    "A_ub = np.array([[1, 1, 1, 1, 0, 0, 0, 0, 0, 0, 0, 0],\n",
    "                [0, 0, 0, 0, 1, 1, 1, 1, 0, 0, 0, 0],\n",
    "                [0, 0, 0, 0, 0, 0, 0, 0, 1, 1, 1, 1]])\n",
    "b_ub = np.array([250, 130, 235])\n",
    "\n",
    "\n",
    "\n",
    "A_eq = np.array([[1, 0, 0, 0, 1, 0, 0, 0, 1, 0, 0, 0],\n",
    "                [0, 1, 0, 0, 0, 1, 0, 0, 0, 1, 0, 0],\n",
    "                [0, 0, 1, 0, 0, 0, 1, 0, 0, 0, 1, 0],\n",
    "                [0, 0, 0, 1, 0, 0, 0, 1, 0, 0, 0, 1]])\n",
    "b_eq = np.array([75, 230, 240, 70])"
   ]
  },
  {
   "cell_type": "markdown",
   "id": "b5813b44",
   "metadata": {},
   "source": [
    "Objective function"
   ]
  },
  {
   "cell_type": "code",
   "execution_count": 4,
   "id": "42bbc338",
   "metadata": {},
   "outputs": [],
   "source": [
    "c = np.array([7, 11, 16, 26, 7, 13, 5, 20, 16, 28, 7, 12])\n",
    "# objective function c @ x"
   ]
  },
  {
   "cell_type": "markdown",
   "id": "b0505636",
   "metadata": {},
   "source": [
    "Solve the problem"
   ]
  },
  {
   "cell_type": "code",
   "execution_count": 5,
   "id": "30e3d926",
   "metadata": {},
   "outputs": [
    {
     "name": "stdout",
     "output_type": "stream",
     "text": [
      "        message: Optimization terminated successfully. (HiGHS Status 7: Optimal)\n",
      "        success: True\n",
      "         status: 0\n",
      "            fun: 5425.0\n",
      "              x: [ 2.000e+01  2.300e+02  0.000e+00  0.000e+00  5.500e+01\n",
      "                   0.000e+00  7.500e+01  0.000e+00  0.000e+00  0.000e+00\n",
      "                   1.650e+02  7.000e+01]\n",
      "            nit: 6\n",
      "          lower:  residual: [ 2.000e+01  2.300e+02  0.000e+00  0.000e+00\n",
      "                              5.500e+01  0.000e+00  7.500e+01  0.000e+00\n",
      "                              0.000e+00  0.000e+00  1.650e+02  7.000e+01]\n",
      "                 marginals: [ 0.000e+00  0.000e+00  1.100e+01  1.600e+01\n",
      "                              0.000e+00  2.000e+00  0.000e+00  1.000e+01\n",
      "                              7.000e+00  1.500e+01  0.000e+00  0.000e+00]\n",
      "          upper:  residual: [ 2.300e+02  2.000e+01  2.500e+02  2.500e+02\n",
      "                              7.500e+01  1.300e+02  5.500e+01  1.300e+02\n",
      "                              2.350e+02  2.350e+02  7.000e+01  1.650e+02]\n",
      "                 marginals: [ 0.000e+00  0.000e+00  0.000e+00  0.000e+00\n",
      "                              0.000e+00  0.000e+00  0.000e+00  0.000e+00\n",
      "                              0.000e+00  0.000e+00  0.000e+00  0.000e+00]\n",
      "          eqlin:  residual: [ 0.000e+00  0.000e+00  0.000e+00  0.000e+00]\n",
      "                 marginals: [ 9.000e+00  1.300e+01  7.000e+00  1.200e+01]\n",
      "        ineqlin:  residual: [ 0.000e+00  0.000e+00  0.000e+00]\n",
      "                 marginals: [-2.000e+00 -2.000e+00 -0.000e+00]\n",
      " mip_node_count: 0\n",
      " mip_dual_bound: 0.0\n",
      "        mip_gap: 0.0\n"
     ]
    },
    {
     "data": {
      "text/plain": [
       "array([ 20., 230.,   0.,   0.,  55.,   0.,  75.,   0.,   0.,   0., 165.,\n",
       "        70.])"
      ]
     },
     "execution_count": 5,
     "metadata": {},
     "output_type": "execute_result"
    }
   ],
   "source": [
    "result = sp.optimize.linprog(c, A_ub, b_ub, A_eq, b_eq, bounds)\n",
    "print(result)\n",
    "result.x"
   ]
  },
  {
   "cell_type": "markdown",
   "id": "758617f2",
   "metadata": {},
   "source": [
    "Variables"
   ]
  },
  {
   "cell_type": "code",
   "execution_count": 5,
   "id": "e9d3dd12",
   "metadata": {},
   "outputs": [],
   "source": [
    "b_ub = np.array([250, 130, 23500])"
   ]
  },
  {
   "cell_type": "markdown",
   "id": "b4065ad7",
   "metadata": {},
   "source": [
    "Solve the problem"
   ]
  },
  {
   "cell_type": "code",
   "execution_count": 6,
   "id": "485cd408",
   "metadata": {},
   "outputs": [
    {
     "name": "stdout",
     "output_type": "stream",
     "text": [
      "        message: Optimization terminated successfully. (HiGHS Status 7: Optimal)\n",
      "        success: True\n",
      "         status: 0\n",
      "            fun: 5425.0\n",
      "              x: [ 2.000e+01  2.300e+02  0.000e+00  0.000e+00  5.500e+01\n",
      "                   0.000e+00  7.500e+01  0.000e+00  0.000e+00  0.000e+00\n",
      "                   1.650e+02  7.000e+01]\n",
      "            nit: 5\n",
      "          lower:  residual: [ 2.000e+01  2.300e+02  0.000e+00  0.000e+00\n",
      "                              5.500e+01  0.000e+00  7.500e+01  0.000e+00\n",
      "                              0.000e+00  0.000e+00  1.650e+02  7.000e+01]\n",
      "                 marginals: [ 0.000e+00  0.000e+00  1.100e+01  1.600e+01\n",
      "                              0.000e+00  2.000e+00  0.000e+00  1.000e+01\n",
      "                              7.000e+00  1.500e+01  0.000e+00  0.000e+00]\n",
      "          upper:  residual: [ 2.300e+02  2.000e+01  2.500e+02  2.500e+02\n",
      "                              7.500e+01  1.300e+02  5.500e+01  1.300e+02\n",
      "                              2.350e+02  2.350e+02  7.000e+01  1.650e+02]\n",
      "                 marginals: [ 0.000e+00  0.000e+00  0.000e+00  0.000e+00\n",
      "                              0.000e+00  0.000e+00  0.000e+00  0.000e+00\n",
      "                              0.000e+00  0.000e+00  0.000e+00  0.000e+00]\n",
      "          eqlin:  residual: [ 0.000e+00  0.000e+00  0.000e+00  0.000e+00]\n",
      "                 marginals: [ 9.000e+00  1.300e+01  7.000e+00  1.200e+01]\n",
      "        ineqlin:  residual: [ 0.000e+00  0.000e+00  2.326e+04]\n",
      "                 marginals: [-2.000e+00 -2.000e+00 -0.000e+00]\n",
      " mip_node_count: 0\n",
      " mip_dual_bound: 0.0\n",
      "        mip_gap: 0.0\n"
     ]
    },
    {
     "data": {
      "text/plain": [
       "array([ 20., 230.,   0.,   0.,  55.,   0.,  75.,   0.,   0.,   0., 165.,\n",
       "        70.])"
      ]
     },
     "execution_count": 6,
     "metadata": {},
     "output_type": "execute_result"
    }
   ],
   "source": [
    "result = sp.optimize.linprog(c, A_ub, b_ub, A_eq, b_eq, bounds)\n",
    "print(result)\n",
    "result.x"
   ]
  },
  {
   "cell_type": "markdown",
   "id": "8ff17912",
   "metadata": {},
   "source": [
    "Variables"
   ]
  },
  {
   "cell_type": "code",
   "execution_count": 7,
   "id": "29ca8a0a",
   "metadata": {},
   "outputs": [],
   "source": [
    "b_ub = np.array([250, 130, 235])\n",
    "b_eq = np.array([75, 230, 240, 70]) * 1.05"
   ]
  },
  {
   "cell_type": "markdown",
   "id": "0f06bba2",
   "metadata": {},
   "source": [
    "Solve the problem"
   ]
  },
  {
   "cell_type": "code",
   "execution_count": 8,
   "id": "5adab5da",
   "metadata": {},
   "outputs": [
    {
     "name": "stdout",
     "output_type": "stream",
     "text": [
      "       message: The problem is infeasible. (HiGHS Status 8: model_status is Infeasible; primal_status is Basic)\n",
      "       success: False\n",
      "        status: 2\n",
      "           fun: None\n",
      "             x: None\n",
      "           nit: 6\n",
      "         lower:  residual: None\n",
      "                marginals: None\n",
      "         upper:  residual: None\n",
      "                marginals: None\n",
      "         eqlin:  residual: None\n",
      "                marginals: None\n",
      "       ineqlin:  residual: None\n",
      "                marginals: None\n"
     ]
    }
   ],
   "source": [
    "result = sp.optimize.linprog(c, A_ub, b_ub, A_eq, b_eq, bounds)\n",
    "print(result)"
   ]
  },
  {
   "cell_type": "code",
   "execution_count": null,
   "id": "bd367dfb",
   "metadata": {},
   "outputs": [],
   "source": []
  }
 ],
 "metadata": {
  "kernelspec": {
   "display_name": "Python 3 (ipykernel)",
   "language": "python",
   "name": "python3"
  },
  "language_info": {
   "codemirror_mode": {
    "name": "ipython",
    "version": 3
   },
   "file_extension": ".py",
   "mimetype": "text/x-python",
   "name": "python",
   "nbconvert_exporter": "python",
   "pygments_lexer": "ipython3",
   "version": "3.9.16"
  }
 },
 "nbformat": 4,
 "nbformat_minor": 5
}
