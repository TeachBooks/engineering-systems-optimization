{
 "cells": [
  {
   "cell_type": "markdown",
   "metadata": {},
   "source": [
    "# Solving optimization problems in Jupyter Notebooks\n",
    "\n",
    "For this course, our Jupyter Notebooks follow the same structure for all problems by defining the following sections:\n",
    " - Importing libraries\n",
    " - Defining variables\n",
    " - Defining objective function\n",
    " - Defining constrain function(s) if needed\n",
    " - Solving the problem\n",
    " - Postprocessing results if needed\n",
    "\n",
    "```{figure} ./figures/jupyter_notebook_general_layout.png\n",
    ":name: jupyter_notebook_general layout\n",
    ":width: 600px\n",
    "General layout Jupyter Notebooks in this course\n",
    "```\n",
    "\n",
    "The structure is shown for an example which will be treated in-depth later."
   ]
  },
  {
   "cell_type": "markdown",
   "metadata": {},
   "source": [
    " ## Importing libraries\n",
    " Python cannot do optimization on its own, therefore we make use of separate packages which are installed with Anaconda:\n",
    "  - `scipy` used for optimization\n",
    "  - `numpy` used for matrix algebra\n",
    "  - `matplotlib` used for plotting\n",
    "\n",
    "Libraries are imported with `import ... as ...` which directly abbreviates the packages for later use."
   ]
  },
  {
   "cell_type": "code",
   "execution_count": 2,
   "metadata": {
    "tags": [
     "disable-execution-page"
    ]
   },
   "outputs": [],
   "source": [
    "import scipy as sp\n",
    "import numpy as np\n",
    "import matplotlib.pylab as plt"
   ]
  },
  {
   "cell_type": "markdown",
   "metadata": {},
   "source": [
    ":::{card} Test Yourself\n",
    "<iframe src=\"https://tudelft.h5p.com/content/1292011179114024347/embed\" aria-label=\"Importing libraries\" width=\"1088\" height=\"637\" frameborder=\"0\" allowfullscreen=\"allowfullscreen\" allow=\"autoplay *; geolocation *; microphone *; camera *; midi *; encrypted-media *\"></iframe><script src=\"https://tudelft.h5p.com/js/h5p-resizer.js\" charset=\"UTF-8\"></script>\n",
    ":::"
   ]
  },
  {
   "cell_type": "markdown",
   "metadata": {},
   "source": [
    "## Defining variables\n",
    "In this part of the notebook we can store all our variables in the form of integers, floats and arrays."
   ]
  },
  {
   "cell_type": "code",
   "execution_count": 3,
   "metadata": {
    "tags": []
   },
   "outputs": [],
   "source": [
    "n0 = 20"
   ]
  },
  {
   "cell_type": "markdown",
   "metadata": {},
   "source": [
    ":::{card} Test Yourself\n",
    "<iframe src=\"https://tudelft.h5p.com/content/1292011182426383217/embed\" aria-label=\"Check defining variables\" width=\"1088\" height=\"637\" frameborder=\"0\" allowfullscreen=\"allowfullscreen\" allow=\"autoplay *; geolocation *; microphone *; camera *; midi *; encrypted-media *\"></iframe><script src=\"https://tudelft.h5p.com/js/h5p-resizer.js\" charset=\"UTF-8\"></script>\n",
    ":::"
   ]
  },
  {
   "cell_type": "markdown",
   "metadata": {},
   "source": [
    "## Defining objective function\n",
    "In this part we define our constraint function as a `callable` with `def ...: ... return ...`\n",
    "These functions can contain multiple lines of calculation but should return one values which is minimized."
   ]
  },
  {
   "cell_type": "code",
   "execution_count": 4,
   "metadata": {
    "tags": [
     "disable-execution-cell"
    ]
   },
   "outputs": [],
   "source": [
    "def negprofit(n):\n",
    "    price = 150 - 0.01 * n**2\n",
    "    revenues = price * n\n",
    "    totalcost = 75 * n\n",
    "    profit = revenues - totalcost\n",
    "    return -profit"
   ]
  },
  {
   "cell_type": "markdown",
   "metadata": {},
   "source": [
    ":::{card} Test Yourself\n",
    "<iframe src=\"https://tudelft.h5p.com/content/1292011184460905227/embed\" aria-label=\"Checking objective function\" width=\"1088\" height=\"637\" frameborder=\"0\" allowfullscreen=\"allowfullscreen\" allow=\"autoplay *; geolocation *; microphone *; camera *; midi *; encrypted-media *\"></iframe><script src=\"https://tudelft.h5p.com/js/h5p-resizer.js\" charset=\"UTF-8\"></script>\n",
    ":::"
   ]
  },
  {
   "cell_type": "markdown",
   "metadata": {},
   "source": [
    "## Defining constraint function\n",
    "Similar to the objective function, the constrain function(s) can be defined, which may return multiple values"
   ]
  },
  {
   "cell_type": "markdown",
   "metadata": {},
   "source": [
    "## Solving the problem\n",
    "Making using of the `scipy`-library, the problem is solved. Using `print`, the result is shown"
   ]
  },
  {
   "cell_type": "code",
   "execution_count": 5,
   "metadata": {},
   "outputs": [
    {
     "name": "stdout",
     "output_type": "stream",
     "text": [
      "  message: Optimization terminated successfully.\n",
      "  success: True\n",
      "   status: 0\n",
      "      fun: -2499.9999999998727\n",
      "        x: [ 5.000e+01]\n",
      "      nit: 8\n",
      "      jac: [ 0.000e+00]\n",
      " hess_inv: [[ 3.503e-01]]\n",
      "     nfev: 22\n",
      "     njev: 11\n"
     ]
    }
   ],
   "source": [
    "result = sp.optimize.minimize(negprofit,n0)\n",
    "print(result)"
   ]
  },
  {
   "cell_type": "markdown",
   "metadata": {},
   "source": [
    "## Postprocessing results\n",
    "If needed, we can postprocess the result or analyse the problem in another way"
   ]
  },
  {
   "cell_type": "code",
   "execution_count": 6,
   "metadata": {},
   "outputs": [
    {
     "data": {
      "image/png": "[encoded data removed]",
      "text/plain": [
       "<Figure size 640x480 with 1 Axes>"
      ]
     },
     "metadata": {},
     "output_type": "display_data"
    }
   ],
   "source": [
    "# checking the results with exhaustive search\n",
    "\n",
    "n_range = np.linspace(0,100,100)\n",
    "negprofit_result = negprofit(n_range)\n",
    "plt.plot(n_range,negprofit_result)\n",
    "plt.plot(result.x,result.fun,'o')\n",
    "plt.xlabel('n')\n",
    "plt.ylabel('Negative profit');"
   ]
  },
  {
   "cell_type": "markdown",
   "metadata": {},
   "source": [
    ":::{card} Test Yourself\n",
    "<iframe src=\"https://tudelft.h5p.com/content/1292011191305801717/embed\" aria-label=\"Postprocessing results\" width=\"500\" height=\"637\" frameborder=\"0\" allowfullscreen=\"allowfullscreen\" allow=\"autoplay *; geolocation *; microphone *; camera *; midi *; encrypted-media *\"></iframe><script src=\"https://tudelft.h5p.com/js/h5p-resizer.js\" charset=\"UTF-8\"></script>\n",
    ":::"
   ]
  }
 ],
 "metadata": {
  "kernelspec": {
   "display_name": "base",
   "language": "python",
   "name": "python3"
  },
  "language_info": {
   "codemirror_mode": {
    "name": "ipython",
    "version": 3
   },
   "file_extension": ".py",
   "mimetype": "text/x-python",
   "name": "python",
   "nbconvert_exporter": "python",
   "pygments_lexer": "ipython3",
   "version": "3.9.17"
  },
  "orig_nbformat": 4
 },
 "nbformat": 4,
 "nbformat_minor": 2
}
