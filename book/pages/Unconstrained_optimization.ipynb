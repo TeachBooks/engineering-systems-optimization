{
 "cells": [
  {
   "cell_type": "markdown",
   "metadata": {},
   "source": [
    "# Unconstrained optimization\n",
    "\n",
    "In this chapter, we'll cover how to apply `scipy.optimize.minimize` to unconstrained optimization problems. As a reminder, unconstrained optimization considers:\n",
    "\n",
    "```{math}\n",
    ":label: unconstrained_optimizatino\n",
    "\n",
    "\\mathop {\\min }\\limits_x f\\left( x \\right)\n",
    "```\n",
    "with $x$ the design variable of length $n$ and $f$ the objective function.\n",
    "\n",
    "\n",
    "\n",
    "## Method\n",
    "In this course, we're making use of the function `scipy.optimize.minimize`. The documentation of this function is available here: \n",
    "https://docs.scipy.org/doc/scipy/reference/generated/scipy.optimize.minimize.html. In this course we'll cover only the relevant parts.\n",
    "\n",
    "For unconstrained optimization we need to run at least `scipy.optimize.minimize(fun, x0, ...)` with:\n",
    "- `fun`, the objective function $f(x)$ to be minimized. `fun` is a callable. The `scipy.optmize.minimize` function takes care of defining and inputing our design variable $x$.\n",
    "- `x0`, the initial guess for our design variable $x$. It needs to be a `ndarray` with length $n$\n",
    "\n",
    "The function `scipy.optimize.minimize` outputs an object `scipy.optimize.OptimizeResult`. with:\n",
    "- `scipy.optimize.OptimizeResult.x` the optimized solution of the design variable `x`. It is a `ndarray` with length $n$\n",
    "- `scipy.optimize.OptimizeResult.success`, a indication whether or not the optimizer was executed succesfully. It is a `bool`, indicating `True` or `False`\n",
    "- `scipy.optimize.OptimizeResult.message`, a message describing the cause of termination of the optimizatino algorithm. It is a `str`.\n",
    "- `scipy.optimize.OptimizeResult.fun`, the values of the optimized objective function $f$. It is a `int` or `float`\n",
    "- `scipy.optimize.OptimizeResult.nit`, the number of iteration performed by the optimizer. It is a `int`\n",
    "\n",
    ":::{card} Test Yourself\n",
    "<iframe src=\"https://tudelft.h5p.com/content/1292011279864402367/embed\" aria-label=\"Example 1_method\" width=\"1088\" height=\"637\" frameborder=\"0\" allowfullscreen=\"allowfullscreen\" allow=\"autoplay *; geolocation *; microphone *; camera *; midi *; encrypted-media *\"></iframe><script src=\"https://tudelft.h5p.com/js/h5p-resizer.js\" charset=\"UTF-8\"></script>\n",
    ":::"
   ]
  }
 ],
 "metadata": {
  "kernelspec": {
   "display_name": "base",
   "language": "python",
   "name": "python3"
  },
  "language_info": {
   "codemirror_mode": {
    "name": "ipython",
    "version": 3
   },
   "file_extension": ".py",
   "mimetype": "text/x-python",
   "name": "python",
   "nbconvert_exporter": "python",
   "pygments_lexer": "ipython3",
   "version": "3.11.5"
  },
  "orig_nbformat": 4
 },
 "nbformat": 4,
 "nbformat_minor": 2
}
