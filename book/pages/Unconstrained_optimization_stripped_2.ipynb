{
 "cells": [
  {
   "cell_type": "markdown",
   "metadata": {},
   "source": [
    "# Curve-fitting\n",
    "\n",
    "## Problem\n",
    "8 data points are collected where $X_i$ is the explanatory variable and $Y_i$ the response variable. It is believed that the data follows the trend $Y = aX^b+c$ where $a$, $b$ and $c$ are the parameters to be determined to fit the model.\n",
    "\n",
    "| $X_i$  | $Y_i$  |\n",
    "| :----- | :----- |\n",
    "| 0.97   | 0.97   |\n",
    "| 0      | 0.06   |\n",
    "| 0.5    | 0.7    |\n",
    "| 0.85   | 0.74   |\n",
    "| 0.7    | 0.2    |\n",
    "| 0.19   | 0.34   |\n",
    "| 0.41   | 0.29   |\n",
    "| 0.78   | 0.94   |"
   ]
  },
  {
   "cell_type": "code",
   "execution_count": 2,
   "metadata": {
    "tags": []
   },
   "outputs": [
    {
     "data": {
      "image/png": "[encoded data removed]",
      "text/plain": [
       "<Figure size 640x480 with 1 Axes>"
      ]
     },
     "metadata": {},
     "output_type": "display_data"
    }
   ],
   "source": [
    "import numpy as np\n",
    "import matplotlib.pylab as plt\n",
    "\n",
    "xi = np.array([0.97,0,0.5,0.85,0.7,0.19,0.41,0.78])\n",
    "yi = np.array([0.97,0.06,0.7,0.74,0.2,0.34,0.29,0.94])\n",
    "plt.xlabel('$X_i$')\n",
    "plt.ylabel('$Y_i$')\n",
    "plt.plot(xi,yi,'x');"
   ]
  },
  {
   "cell_type": "markdown",
   "metadata": {},
   "source": [
    "Examples of the source of this data can be:\n",
    " - Stress of a pre-stressed concrete specimen based on the deformation when applied an axial force\n",
    " - Permeability-coefficient for compacted sand based on the grain size\n",
    " - Job performance based on the number of working hours\n",
    " - etc.\n"
   ]
  },
  {
   "cell_type": "markdown",
   "metadata": {},
   "source": [
    "# Model\n",
    "The problem is modelled as a minimization of the squared error, where error is the difference between $a X_i^b+C$ and $Y_i$\n",
    "$$\\mathop {\\min }\\limits_{a,b,c} \\sum\\limits_{i = 1}^8 {{{\\left( {a{X_i}^b + c - {Y_i}} \\right)}^2}} $$"
   ]
  },
  {
   "cell_type": "markdown",
   "metadata": {},
   "source": [
    "The plot below shows the data points and the total error squared.\n",
    "\n",
    "Try and adjust the values for $a$, $b$ and $c$. How small can you get the total error squared?"
   ]
  },
  {
   "cell_type": "code",
   "execution_count": 4,
   "metadata": {
    "tags": []
   },
   "outputs": [
    {
     "data": {
      "application/vnd.jupyter.widget-view+json": {
       "model_id": "40e7e7cbf2ae4e96b7cb5b787b186951",
       "version_major": 2,
       "version_minor": 0
      },
      "text/plain": [
       "interactive(children=(FloatSlider(value=2.0, description='a', max=5.0, step=0.2), FloatSlider(value=2.0, descr…"
      ]
     },
     "metadata": {},
     "output_type": "display_data"
    }
   ],
   "source": [
    "from ipywidgets import widgets, interact\n",
    "x_range = np.linspace(0.0001,1,100)\n",
    "def func(a,b,c):\n",
    "    fig, ax = plt.subplots(1, 1)\n",
    "    ax.plot(xi,yi,'x')\n",
    "    ax.plot(x_range,a * x_range**b + c);\n",
    "    ax.set_xlim([-0,1])\n",
    "    ax.set_ylim([-0,1])\n",
    "    y_est = a * xi ** b + c\n",
    "    error = np.sum((yi-y_est)**2)\n",
    "    title = 'Total error squared $=$'+str(round(error,4))\n",
    "    ax.set_title(title)\n",
    "    for i in range(8):\n",
    "        ax.annotate(\"\",xy=[xi[i],yi[i]],xytext=[xi[i],max(min(a * xi[i] ** b + c,1),0)],arrowprops=dict(arrowstyle= '<->'))\n",
    "    return\n",
    "\n",
    "interact(func,\n",
    "         a = widgets.FloatSlider(min=0, max=5, value=2, step=0.2, description=\"a\"),\n",
    "         b = widgets.FloatSlider(min=0, max=5, value=2, step=0.2, description=\"b\"),\n",
    "         c = widgets.FloatSlider(min=0, max=1, value=0.5, step=0.05, description=\"c\"));"
   ]
  },
  {
   "cell_type": "markdown",
   "metadata": {},
   "source": [
    "## Method\n",
    "\n",
    "Again, this model is described using `scipy.optimize.minimize` according to the [standard structure in this course](./Python_start_3.ipynb)\n",
    "\n",
    "### Importing libraries\n"
   ]
  },
  {
   "cell_type": "code",
   "execution_count": 3,
   "metadata": {},
   "outputs": [],
   "source": [
    "import scipy as sp\n",
    "import numpy as np\n",
    "import matplotlib.pyplot as plt"
   ]
  },
  {
   "cell_type": "markdown",
   "metadata": {},
   "source": [
    "### Defining the variables\n",
    "In this problem, there are 3 design variables: $a$, $b$ and $c$. In `scipy.optimize`, these variables are part of one array. You don't have to specify this variable beforehand, but the optimization algorithm will define the number of variables on your other input. Furthermore, input data is given which is required to specify explicitly. Additionally, an initial guess is required for the otimization algorithm."
   ]
  },
  {
   "cell_type": "code",
   "execution_count": 4,
   "metadata": {},
   "outputs": [],
   "source": [
    "xi = np.array([0.97, 0   , 0.5, 0.85, 0.7, 0.19, 0.41, 0.78])\n",
    "yi = np.array([0.97, 0.06, 0.7, 0.74, 0.2, 0.34, 0.29, 0.94])\n",
    "abc0 = np.array([4., 2., 0.5]) #initial guess"
   ]
  },
  {
   "cell_type": "markdown",
   "metadata": {},
   "source": [
    "### Objective function\n",
    "The objective function was alerady defined. Because `a`, `b`, `c` and `xi` are all numpy arrays, we can simply use `*`, `**` and `+` to deal with the multiplication, exponent and summation of those arrays. `np.sum` is used to sum up all components of the array which is the result of `(yi-y_est)**2`"
   ]
  },
  {
   "cell_type": "code",
   "execution_count": 5,
   "metadata": {},
   "outputs": [],
   "source": [
    "def squarederror(abc):\n",
    "    a = abc[0]\n",
    "    b = abc[1]\n",
    "    c = abc[2]\n",
    "    y_est = a * xi ** b + c\n",
    "    error = np.sum((yi-y_est)**2)\n",
    "    return error"
   ]
  },
  {
   "cell_type": "markdown",
   "metadata": {},
   "source": [
    "### Solve the problem\n",
    "Now we can solve the actual problem"
   ]
  },
  {
   "cell_type": "code",
   "execution_count": 77,
   "metadata": {},
   "outputs": [
    {
     "name": "stdout",
     "output_type": "stream",
     "text": [
      "  message: Optimization terminated successfully.\n",
      "  success: True\n",
      "   status: 0\n",
      "      fun: 0.3342203980898386\n",
      "        x: [ 8.028e-01  1.231e+00  1.233e-01]\n",
      "      nit: 54\n",
      "      jac: [-2.332e-06  2.570e-06 -3.166e-06]\n",
      " hess_inv: [[ 6.233e-01 -3.674e-01 -3.660e-01]\n",
      "            [-3.674e-01  1.485e+01  2.251e+00]\n",
      "            [-3.660e-01  2.251e+00  5.564e-01]]\n",
      "     nfev: 276\n",
      "     njev: 69\n"
     ]
    }
   ],
   "source": [
    "result = sp.optimize.minimize(squarederror,abc0)\n",
    "print(result)"
   ]
  },
  {
   "cell_type": "markdown",
   "metadata": {},
   "source": [
    "### Postprocessing\n",
    "As this problem involves three design variables, a plot of all possible design variables with the objective function is not possible because it would require four dimensions. However, we can plot the data which the obtained solution to see how it looks like"
   ]
  },
  {
   "cell_type": "code",
   "execution_count": 78,
   "metadata": {},
   "outputs": [
    {
     "data": {
      "image/png": "[encoded data removed]",
      "text/plain": [
       "<Figure size 640x480 with 1 Axes>"
      ]
     },
     "metadata": {},
     "output_type": "display_data"
    }
   ],
   "source": [
    "x_range = np.linspace(0,1,100)\n",
    "plt.plot(xi,yi,'x');\n",
    "plt.plot(x_range,result.x[0] * x_range ** result.x[1] + result.x[2])\n",
    "plt.xlabel('$X_i$')\n",
    "plt.ylabel('$Y_i$');"
   ]
  }
 ],
 "metadata": {
  "kernelspec": {
   "display_name": "base",
   "language": "python",
   "name": "python3"
  },
  "language_info": {
   "codemirror_mode": {
    "name": "ipython",
    "version": 3
   },
   "file_extension": ".py",
   "mimetype": "text/x-python",
   "name": "python",
   "nbconvert_exporter": "python",
   "pygments_lexer": "ipython3",
   "version": "3.11.5"
  },
  "orig_nbformat": 4
 },
 "nbformat": 4,
 "nbformat_minor": 2
}
