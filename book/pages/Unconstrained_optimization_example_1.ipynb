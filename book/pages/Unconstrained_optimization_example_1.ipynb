{
 "cells": [
  {
   "cell_type": "markdown",
   "metadata": {},
   "source": [
    "```{custom_download_link} ./Unconstrained_optimization_stripped_1.ipynb\n",
    ":replace_default: \"True\"\n",
    "```"
   ]
  },
  {
   "cell_type": "markdown",
   "metadata": {},
   "source": [
    "# Bathymetry maps\n",
    "\n",
    "Click {fa}`rocket` --> {guilabel}`Live Code` to activate live coding on this page!\n",
    "\n",
    "## Problem\n",
    "It is desired to determine the number of bathymetry maps $n$ of a local area that should be produced to maximize the profit of a company. The total cost of production and distribution is €$75$ per unit $n$. The revenues are proportional to the number of units multiplied by its price: $Revenues = n \\cdot Price $\n",
    "\n",
    "The demand depends on the price ($Price = 150 - 0.01n^2$), as shown in the graph:"
   ]
  },
  {
   "cell_type": "code",
   "execution_count": null,
   "metadata": {
    "tags": [
     "remove-input"
    ]
   },
   "outputs": [],
   "source": [
    "import numpy as np\n",
    "import matplotlib.pylab as plt\n",
    "%config InlineBackend.figure_formats = ['svg']\n",
    "\n",
    "n = np.linspace(0,120,100)\n",
    "price = 150 - 0.01 * n**2\n",
    "plt.plot(n,price)\n",
    "plt.xlabel('$n$ (-)')\n",
    "plt.ylabel('$Price$ (€)')\n",
    "plt.ylim(0,160)\n",
    "plt.xlim(0,120)\n",
    "ax = plt.gca()\n",
    "ax.grid(True, which='both')\n",
    "ax.spines['left'].set_position('zero')\n",
    "ax.spines['right'].set_color('none')\n",
    "ax.yaxis.tick_left()\n",
    "ax.spines['bottom'].set_position('zero')\n",
    "ax.spines['top'].set_color('none')\n",
    "ax.xaxis.tick_bottom()"
   ]
  },
  {
   "cell_type": "markdown",
   "metadata": {},
   "source": [
    "```{figure} ./figures/revenues-price.png\n",
    ":name: revenues-price\n",
    ":width: 600px\n",
    "$Price = 150 - 0.01n^2$\n",
    "```\n",
    "\n",
    "The profit can be estimated as the revenues minus the total costs."
   ]
  },
  {
   "cell_type": "markdown",
   "metadata": {},
   "source": [
    "## Model\n",
    "We need to define our problem in the form of unconstrained optimization {eq}`unconstrained_optimization`.\n",
    "\n",
    "The function for the profit can be found by combining the relations in the problem statement. However, this is the profit which should be maximized. To turn this into a minimization problem, the profit can be multiplied with $-1$. The final model of this problem results in:\n",
    "\n",
    "```{math}\n",
    ":label: unconstrained_optimization_problem\n",
    "\n",
    "\\mathop {\\min }\\limits_n \\left(75n - \\left( 150 - 0.01n^2 \\right) n \\right)\n",
    "```"
   ]
  },
  {
   "cell_type": "markdown",
   "metadata": {},
   "source": [
    ":::{card} Test Yourself\n",
    "<iframe src=\"https://tudelft.h5p.com/content/1292067269315918707/embed\" aria-label=\"Example 1_linear and convex\" width=\"1088\" height=\"637\" frameborder=\"0\" allowfullscreen=\"allowfullscreen\" allow=\"autoplay *; geolocation *; microphone *; camera *; midi *; encrypted-media *\"></iframe><script src=\"https://tudelft.h5p.com/js/h5p-resizer.js\" charset=\"UTF-8\"></script>\n",
    ":::"
   ]
  },
  {
   "cell_type": "markdown",
   "metadata": {},
   "source": [
    "An approach to solve this problem might be to try out some values. You can do so in the applet below. The plot below shows the negative profit for some number of bathmetry maps sold.\n",
    "\n",
    ":::{card}\n",
    "Click {fa}`rocket` --> {guilabel}`Live Code` to enable this applet. Try and adjust the values for $n$, the number of bathmetry maps sold. How small can you get the negative profit?\n",
    ":::"
   ]
  },
  {
   "cell_type": "code",
   "execution_count": null,
   "metadata": {
    "tags": [
     "thebe-remove-input-init"
    ]
   },
   "outputs": [],
   "source": [
    "from ipywidgets import widgets, interact\n",
    "import numpy as np\n",
    "import matplotlib.pylab as plt\n",
    "%config InlineBackend.figure_formats = ['svg']\n",
    "\n",
    "n_range = np.linspace(0,100,100)\n",
    "def func(n,truth):\n",
    "    fig, ax = plt.subplots(1, 1)\n",
    "    title = 'Negative profit for amount of bathmetry maps sold is € ' + str(round(75*n - (150 - 0.01 * n**2)*n,2))\n",
    "    ax.clear()\n",
    "    ax.set_title(title)\n",
    "    if truth:\n",
    "        ax.plot(n_range,75*n_range - (150 - 0.01 * n_range**2)*n_range)\n",
    "    ax.plot(n,75*n - (150 - 0.01 * n**2)*n,'o');\n",
    "    ax.set_xlim([0,100])\n",
    "    ax.set_xlabel('Number of bathmetry maps $n$ sold (-)')\n",
    "    ax.set_ylabel('Negative profit (€)')\n",
    "    ax.set_ylim([-3000,3000])\n",
    "    ax.spines['right'].set_color('none')\n",
    "    ax.spines['top'].set_color('none')\n",
    "    ax.spines['bottom'].set_position('zero')\n",
    "    ax.spines['left'].set_position('zero')\n",
    "    plt.show();\n",
    "\n",
    "interact(func, n = widgets.IntSlider(min=0, max=100, value=20, step=1, description=\"#maps n sold\"), truth = widgets.Checkbox(value=False, description='Show objective function', disabled=False));"
   ]
  },
  {
   "cell_type": "markdown",
   "metadata": {},
   "source": [
    "As this case is only one-dimensional and the potential range of values is limited, this approach (exhaustive search) is valid: evaluating all possible values for $n$ doesn't take a lot of computing power. The resulting values from the objective function show a clear minimum. For problem in which the objective function required more computational power or the amount of dimensions of the design variables increases, this approach quickly becomes infeasible."
   ]
  },
  {
   "cell_type": "markdown",
   "metadata": {},
   "source": [
    "## Method\n",
    "\n",
    "Now let's solve this problem using an optimization method. This model is described using `scipy.optimize.minimize` according to the [standard structure in this course](./Python_start_3.ipynb)\n"
   ]
  },
  {
   "cell_type": "markdown",
   "metadata": {},
   "source": [
    "### Import libraries\n",
    "For this problem, we'll use all three packages `scipy`, `numpy`, `matplotlib`."
   ]
  },
  {
   "cell_type": "code",
   "execution_count": null,
   "metadata": {
    "tags": [
     "auto-execute-page",
     "thebe-remove-input-init"
    ]
   },
   "outputs": [],
   "source": [
    "import scipy as sp "
   ]
  },
  {
   "cell_type": "code",
   "execution_count": 1,
   "metadata": {
    "tags": [
     "disable-execution-cell"
    ]
   },
   "outputs": [],
   "source": [
    "import scipy as sp \n",
    "import numpy as np\n",
    "import matplotlib.pylab as plt"
   ]
  },
  {
   "cell_type": "markdown",
   "metadata": {},
   "source": [
    "### Define the variables\n",
    "There are very few variables in this problem. In fact, the only variable we have to specify is the initial guess for the optimization algorithm. The objective function will be treated later.\n",
    "The length of $n$ doesn't have to be specified."
   ]
  },
  {
   "cell_type": "code",
   "execution_count": 2,
   "metadata": {
    "tags": [
     "thebe-init"
    ]
   },
   "outputs": [],
   "source": [
    "n0 = 20"
   ]
  },
  {
   "cell_type": "markdown",
   "metadata": {},
   "source": [
    ":::{card} Test Yourself\n",
    "<iframe src=\"https://tudelft.h5p.com/content/1292011310223381757/embed\" aria-label=\"Problem 1 variables\" width=\"1088\" height=\"637\" frameborder=\"0\" allowfullscreen=\"allowfullscreen\" allow=\"autoplay *; geolocation *; microphone *; camera *; midi *; encrypted-media *\"></iframe><script src=\"https://tudelft.h5p.com/js/h5p-resizer.js\" charset=\"UTF-8\"></script>\n",
    ":::"
   ]
  },
  {
   "cell_type": "markdown",
   "metadata": {},
   "source": [
    "### Define the objective function\n",
    "In the objective function, the formula given in the model description can be inserted. Or, each individual step can be calculated on a seperate line. Again, note that the profit is multiplied with $-1$ to maximize the profit in the minimization formulation.\n",
    "This results in:"
   ]
  },
  {
   "cell_type": "code",
   "execution_count": 3,
   "metadata": {
    "tags": [
     "thebe-init"
    ]
   },
   "outputs": [],
   "source": [
    "def negprofit(n):\n",
    "    price = 150 - 0.01 * n**2\n",
    "    revenues = price * n\n",
    "    totalcost = 75 * n\n",
    "    profit = revenues - totalcost\n",
    "    return -profit"
   ]
  },
  {
   "cell_type": "markdown",
   "metadata": {},
   "source": [
    "### Solve the problem\n",
    "Now, the problem can be solved. The result is stored in the variables `result` which is printed."
   ]
  },
  {
   "cell_type": "code",
   "execution_count": 4,
   "metadata": {
    "tags": [
     "thebe-init"
    ]
   },
   "outputs": [
    {
     "name": "stdout",
     "output_type": "stream",
     "text": [
      "  message: Optimization terminated successfully.\n",
      "  success: True\n",
      "   status: 0\n",
      "      fun: -2499.9999999998727\n",
      "        x: [ 5.000e+01]\n",
      "      nit: 8\n",
      "      jac: [ 0.000e+00]\n",
      " hess_inv: [[ 3.503e-01]]\n",
      "     nfev: 22\n",
      "     njev: 11\n"
     ]
    }
   ],
   "source": [
    "result = sp.optimize.minimize(negprofit,n0)\n",
    "print(result)"
   ]
  },
  {
   "cell_type": "markdown",
   "metadata": {},
   "source": [
    ":::{card} Test Yourself\n",
    "<iframe src=\"https://tudelft.h5p.com/content/1292011319959180647/embed\" aria-label=\"Example 1 Solving\" width=\"1088\" height=\"637\" frameborder=\"0\" allowfullscreen=\"allowfullscreen\" allow=\"autoplay *; geolocation *; microphone *; camera *; midi *; encrypted-media *\"></iframe><script src=\"https://tudelft.h5p.com/js/h5p-resizer.js\" charset=\"UTF-8\"></script>\n",
    ":::"
   ]
  },
  {
   "cell_type": "markdown",
   "metadata": {},
   "source": [
    "### Postprocess results\n",
    "As seen before, this problem is very small and can be solved by evaluating all possible values (or applying algebra). These values can be plotted and the optimum solution is clearly in the minimum."
   ]
  },
  {
   "cell_type": "code",
   "execution_count": 5,
   "metadata": {
    "tags": [
     "thebe-init"
    ]
   },
   "outputs": [
    {
     "data": {
      "image/png": "[encoded data removed]",
      "text/plain": [
       "<Figure size 640x480 with 1 Axes>"
      ]
     },
     "metadata": {},
     "output_type": "display_data"
    }
   ],
   "source": [
    "n_range = np.linspace(0,100,100)\n",
    "negprofit_result = negprofit(n_range)\n",
    "plt.figure()\n",
    "plt.plot(n_range,negprofit_result)\n",
    "plt.plot(result.x,result.fun,'o');\n",
    "plt.xlabel('$n$')\n",
    "plt.ylabel('Negative profit');\n",
    "ax = plt.gca()\n",
    "ax.spines['right'].set_color('none')\n",
    "ax.spines['top'].set_color('none')\n",
    "ax.spines['bottom'].set_position('zero')\n",
    "ax.spines['left'].set_position('zero')"
   ]
  },
  {
   "cell_type": "markdown",
   "metadata": {},
   "source": [
    ":::{card}\n",
    "<iframe src=\"https://tudelft.h5p.com/content/1292012050691010717/embed\" aria-label=\"Example 1_postprocessing\" width=\"1088\" height=\"637\" frameborder=\"0\" allowfullscreen=\"allowfullscreen\" allow=\"autoplay *; geolocation *; microphone *; camera *; midi *; encrypted-media *\"></iframe><script src=\"https://tudelft.h5p.com/js/h5p-resizer.js\" charset=\"UTF-8\"></script>\n",
    ":::"
   ]
  },
  {
   "cell_type": "markdown",
   "metadata": {},
   "source": [
    "## Exercise\n",
    "\n",
    ":::{card}\n",
    "Click {fa}`rocket` --> {guilabel}`Live Code` and adapt the code to answer the following question.\n",
    "\n",
    "<iframe src=\"https://tudelft.h5p.com/content/1292049357532312317/embed\" aria-label=\"Example 1_exercise 1\" width=\"1088\" height=\"637\" frameborder=\"0\" allowfullscreen=\"allowfullscreen\" allow=\"autoplay *; geolocation *; microphone *; camera *; midi *; encrypted-media *\"></iframe><script src=\"https://tudelft.h5p.com/js/h5p-resizer.js\" charset=\"UTF-8\"></script>\n",
    "\n",
    "<iframe src=\"https://tudelft.h5p.com/content/1292049366142420277/embed\" aria-label=\"Example 1_exercise 2\" width=\"1088\" height=\"637\" frameborder=\"0\" allowfullscreen=\"allowfullscreen\" allow=\"autoplay *; geolocation *; microphone *; camera *; midi *; encrypted-media *\"></iframe><script src=\"https://tudelft.h5p.com/js/h5p-resizer.js\" charset=\"UTF-8\"></script>\n",
    ":::"
   ]
  },
  {
   "cell_type": "markdown",
   "metadata": {},
   "source": [
    "## Questions, discussions and comments\n",
    "<script src=\"https://utteranc.es/client.js\"\n",
    "        repo=\"Tom-van-Woudenberg/CME4501\"\n",
    "        issue-term=\"pathname\"\n",
    "        theme=\"github-light\"\n",
    "        crossorigin=\"anonymous\"\n",
    "        async>\n",
    "</script>"
   ]
  }
 ],
 "metadata": {
  "kernelspec": {
   "display_name": "base",
   "language": "python",
   "name": "python3"
  },
  "language_info": {
   "codemirror_mode": {
    "name": "ipython",
    "version": 3
   },
   "file_extension": ".py",
   "mimetype": "text/x-python",
   "name": "python",
   "nbconvert_exporter": "python",
   "pygments_lexer": "ipython3",
   "version": "3.9.18"
  },
  "orig_nbformat": 4
 },
 "nbformat": 4,
 "nbformat_minor": 2
}
